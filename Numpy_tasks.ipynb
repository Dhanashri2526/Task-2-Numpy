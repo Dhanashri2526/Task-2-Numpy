{
  "cells": [
    {
      "cell_type": "markdown",
      "metadata": {
        "id": "view-in-github",
        "colab_type": "text"
      },
      "source": [
        "<a href=\"https://colab.research.google.com/github/Dhanashri2526/Task-2-Numpy/blob/main/Numpy_tasks.ipynb\" target=\"_parent\"><img src=\"https://colab.research.google.com/assets/colab-badge.svg\" alt=\"Open In Colab\"/></a>"
      ]
    },
    {
      "cell_type": "markdown",
      "metadata": {
        "id": "JMheQLrF0pRI"
      },
      "source": [
        "# Numpy\n",
        "\n"
      ]
    },
    {
      "cell_type": "markdown",
      "metadata": {
        "id": "PbjXh0qA0pRO"
      },
      "source": [
        "#### 1. Import the numpy package under the name `np` (★☆☆) \n",
        "(**hint**: import … as …)"
      ]
    },
    {
      "cell_type": "code",
      "execution_count": 1,
      "metadata": {
        "collapsed": true,
        "id": "BZ0-8N480pRQ"
      },
      "outputs": [],
      "source": [
        "import numpy as np"
      ]
    },
    {
      "cell_type": "markdown",
      "metadata": {
        "id": "LL-N_TXV0pRR"
      },
      "source": [
        "#### 2. Print the numpy version and the configuration (★☆☆) \n",
        "(**hint**: np.\\_\\_version\\_\\_, np.show\\_config)"
      ]
    },
    {
      "cell_type": "code",
      "execution_count": 2,
      "metadata": {
        "colab": {
          "base_uri": "https://localhost:8080/"
        },
        "id": "f7PzRn960pRS",
        "outputId": "2a9d2412-8f56-49fb-f070-6a161e8a7adc"
      },
      "outputs": [
        {
          "output_type": "stream",
          "name": "stdout",
          "text": [
            "1.21.6\n",
            "blas_mkl_info:\n",
            "  NOT AVAILABLE\n",
            "blis_info:\n",
            "  NOT AVAILABLE\n",
            "openblas_info:\n",
            "    libraries = ['openblas', 'openblas']\n",
            "    library_dirs = ['/usr/local/lib']\n",
            "    language = c\n",
            "    define_macros = [('HAVE_CBLAS', None)]\n",
            "    runtime_library_dirs = ['/usr/local/lib']\n",
            "blas_opt_info:\n",
            "    libraries = ['openblas', 'openblas']\n",
            "    library_dirs = ['/usr/local/lib']\n",
            "    language = c\n",
            "    define_macros = [('HAVE_CBLAS', None)]\n",
            "    runtime_library_dirs = ['/usr/local/lib']\n",
            "lapack_mkl_info:\n",
            "  NOT AVAILABLE\n",
            "openblas_lapack_info:\n",
            "    libraries = ['openblas', 'openblas']\n",
            "    library_dirs = ['/usr/local/lib']\n",
            "    language = c\n",
            "    define_macros = [('HAVE_CBLAS', None)]\n",
            "    runtime_library_dirs = ['/usr/local/lib']\n",
            "lapack_opt_info:\n",
            "    libraries = ['openblas', 'openblas']\n",
            "    library_dirs = ['/usr/local/lib']\n",
            "    language = c\n",
            "    define_macros = [('HAVE_CBLAS', None)]\n",
            "    runtime_library_dirs = ['/usr/local/lib']\n",
            "Supported SIMD extensions in this NumPy install:\n",
            "    baseline = SSE,SSE2,SSE3\n",
            "    found = SSSE3,SSE41,POPCNT,SSE42,AVX,F16C,FMA3,AVX2\n",
            "    not found = AVX512F,AVX512CD,AVX512_KNL,AVX512_KNM,AVX512_SKX,AVX512_CLX,AVX512_CNL,AVX512_ICL\n",
            "None\n"
          ]
        }
      ],
      "source": [
        "print(np.__version__)\n",
        "print(np.show_config())"
      ]
    },
    {
      "cell_type": "markdown",
      "metadata": {
        "id": "Y48yytV30pRS"
      },
      "source": [
        "#### 3. Create a null vector of size 10 (★☆☆) \n",
        "(**hint**: np.zeros)"
      ]
    },
    {
      "cell_type": "code",
      "execution_count": 3,
      "metadata": {
        "colab": {
          "base_uri": "https://localhost:8080/"
        },
        "id": "gewsCUKY0pRT",
        "outputId": "adf2aff3-a44f-4cc0-84cb-768f680d3790"
      },
      "outputs": [
        {
          "output_type": "execute_result",
          "data": {
            "text/plain": [
              "array([0., 0., 0., 0., 0., 0., 0., 0., 0., 0.])"
            ]
          },
          "metadata": {},
          "execution_count": 3
        }
      ],
      "source": [
        "x=np.zeros(10)\n",
        "x"
      ]
    },
    {
      "cell_type": "markdown",
      "metadata": {
        "id": "qeyU7ePB0pRU"
      },
      "source": [
        "#### 4.  How to find the memory size of any array (★☆☆) \n",
        "(**hint**: size, itemsize)"
      ]
    },
    {
      "cell_type": "code",
      "execution_count": 4,
      "metadata": {
        "colab": {
          "base_uri": "https://localhost:8080/"
        },
        "id": "N-z-ZQB40pRU",
        "outputId": "28dbd21e-569b-4a76-dc4f-73baf9f8a35e"
      },
      "outputs": [
        {
          "output_type": "execute_result",
          "data": {
            "text/plain": [
              "8"
            ]
          },
          "metadata": {},
          "execution_count": 4
        }
      ],
      "source": [
        "x.size\n",
        "x.itemsize"
      ]
    },
    {
      "cell_type": "markdown",
      "metadata": {
        "id": "-rM3duIO0pRV"
      },
      "source": [
        "#### 5.  How to get the documentation of the numpy add function from the command line? (★☆☆) \n",
        "(**hint**: np.info)"
      ]
    },
    {
      "cell_type": "code",
      "execution_count": 5,
      "metadata": {
        "colab": {
          "base_uri": "https://localhost:8080/"
        },
        "id": "AEGFSFBo0pRW",
        "outputId": "d1ca96fd-bb42-4dfd-edf1-4e6aeb107822"
      },
      "outputs": [
        {
          "output_type": "stream",
          "name": "stdout",
          "text": [
            "add(x1, x2, /, out=None, *, where=True, casting='same_kind', order='K', dtype=None, subok=True[, signature, extobj])\n",
            "\n",
            "Add arguments element-wise.\n",
            "\n",
            "Parameters\n",
            "----------\n",
            "x1, x2 : array_like\n",
            "    The arrays to be added.\n",
            "    If ``x1.shape != x2.shape``, they must be broadcastable to a common\n",
            "    shape (which becomes the shape of the output).\n",
            "out : ndarray, None, or tuple of ndarray and None, optional\n",
            "    A location into which the result is stored. If provided, it must have\n",
            "    a shape that the inputs broadcast to. If not provided or None,\n",
            "    a freshly-allocated array is returned. A tuple (possible only as a\n",
            "    keyword argument) must have length equal to the number of outputs.\n",
            "where : array_like, optional\n",
            "    This condition is broadcast over the input. At locations where the\n",
            "    condition is True, the `out` array will be set to the ufunc result.\n",
            "    Elsewhere, the `out` array will retain its original value.\n",
            "    Note that if an uninitialized `out` array is created via the default\n",
            "    ``out=None``, locations within it where the condition is False will\n",
            "    remain uninitialized.\n",
            "**kwargs\n",
            "    For other keyword-only arguments, see the\n",
            "    :ref:`ufunc docs <ufuncs.kwargs>`.\n",
            "\n",
            "Returns\n",
            "-------\n",
            "add : ndarray or scalar\n",
            "    The sum of `x1` and `x2`, element-wise.\n",
            "    This is a scalar if both `x1` and `x2` are scalars.\n",
            "\n",
            "Notes\n",
            "-----\n",
            "Equivalent to `x1` + `x2` in terms of array broadcasting.\n",
            "\n",
            "Examples\n",
            "--------\n",
            ">>> np.add(1.0, 4.0)\n",
            "5.0\n",
            ">>> x1 = np.arange(9.0).reshape((3, 3))\n",
            ">>> x2 = np.arange(3.0)\n",
            ">>> np.add(x1, x2)\n",
            "array([[  0.,   2.,   4.],\n",
            "       [  3.,   5.,   7.],\n",
            "       [  6.,   8.,  10.]])\n",
            "\n",
            "The ``+`` operator can be used as a shorthand for ``np.add`` on ndarrays.\n",
            "\n",
            ">>> x1 = np.arange(9.0).reshape((3, 3))\n",
            ">>> x2 = np.arange(3.0)\n",
            ">>> x1 + x2\n",
            "array([[ 0.,  2.,  4.],\n",
            "       [ 3.,  5.,  7.],\n",
            "       [ 6.,  8., 10.]])\n",
            "None\n"
          ]
        }
      ],
      "source": [
        "print(np.info(np.add))"
      ]
    },
    {
      "cell_type": "markdown",
      "metadata": {
        "id": "aN-IP0c40pRW"
      },
      "source": [
        "#### 6.  Create a null vector of size 10 but the fifth value which is 1 (★☆☆) \n",
        "(**hint**: array\\[4\\])"
      ]
    },
    {
      "cell_type": "code",
      "execution_count": 6,
      "metadata": {
        "colab": {
          "base_uri": "https://localhost:8080/"
        },
        "id": "g0b6ylHg0pRW",
        "outputId": "52f4d655-3981-42fb-b6bb-aed236b08278"
      },
      "outputs": [
        {
          "output_type": "execute_result",
          "data": {
            "text/plain": [
              "array([0., 0., 0., 0., 1., 0., 0., 0., 0., 0.])"
            ]
          },
          "metadata": {},
          "execution_count": 6
        }
      ],
      "source": [
        "a=np.zeros(10)\n",
        "a[4]=1\n",
        "a"
      ]
    },
    {
      "cell_type": "markdown",
      "metadata": {
        "id": "Kc0YJzz40pRX"
      },
      "source": [
        "#### 7.  Create a vector with values ranging from 10 to 49 (★☆☆) \n",
        "(**hint**: np.arange)"
      ]
    },
    {
      "cell_type": "code",
      "execution_count": 7,
      "metadata": {
        "colab": {
          "base_uri": "https://localhost:8080/"
        },
        "id": "Ufa523MN0pRX",
        "outputId": "81703403-9753-4ad6-b2fe-f660c07cd5a2"
      },
      "outputs": [
        {
          "output_type": "execute_result",
          "data": {
            "text/plain": [
              "array([10, 11, 12, 13, 14, 15, 16, 17, 18, 19, 20, 21, 22, 23, 24, 25, 26,\n",
              "       27, 28, 29, 30, 31, 32, 33, 34, 35, 36, 37, 38, 39, 40, 41, 42, 43,\n",
              "       44, 45, 46, 47, 48, 49])"
            ]
          },
          "metadata": {},
          "execution_count": 7
        }
      ],
      "source": [
        "x=np.arange(10,50)\n",
        "x"
      ]
    },
    {
      "cell_type": "markdown",
      "metadata": {
        "id": "wg_Bl2hq0pRY"
      },
      "source": [
        "#### 8.  Reverse a vector (first element becomes last) (★☆☆) \n",
        "(**hint**: array\\[::-1\\])"
      ]
    },
    {
      "cell_type": "code",
      "execution_count": 8,
      "metadata": {
        "colab": {
          "base_uri": "https://localhost:8080/"
        },
        "id": "zVR-c2Pa0pRY",
        "outputId": "264bde04-991c-4d41-ba11-572d7caf60ba"
      },
      "outputs": [
        {
          "output_type": "execute_result",
          "data": {
            "text/plain": [
              "array([49, 48, 47, 46, 45, 44, 43, 42, 41, 40, 39, 38, 37, 36, 35, 34, 33,\n",
              "       32, 31, 30, 29, 28, 27, 26, 25, 24, 23, 22, 21, 20, 19, 18, 17, 16,\n",
              "       15, 14, 13, 12, 11, 10])"
            ]
          },
          "metadata": {},
          "execution_count": 8
        }
      ],
      "source": [
        "rev_x=x[::-1]\n",
        "rev_x"
      ]
    },
    {
      "cell_type": "markdown",
      "metadata": {
        "id": "JPvKbYck0pRY"
      },
      "source": [
        "#### 9.  Create a 3x3 matrix with values ranging from 0 to 8 (★☆☆) \n",
        "(**hint**: reshape)"
      ]
    },
    {
      "cell_type": "code",
      "execution_count": 9,
      "metadata": {
        "colab": {
          "base_uri": "https://localhost:8080/"
        },
        "id": "beiNBj3z0pRZ",
        "outputId": "f5f60e4a-b9cc-4126-f47a-aaa475b6d731"
      },
      "outputs": [
        {
          "output_type": "execute_result",
          "data": {
            "text/plain": [
              "array([[0, 1, 2],\n",
              "       [3, 4, 5],\n",
              "       [6, 7, 8]])"
            ]
          },
          "metadata": {},
          "execution_count": 9
        }
      ],
      "source": [
        "S=np.reshape(np.arange(0,9),(3,3))\n",
        "\n",
        "S"
      ]
    },
    {
      "cell_type": "markdown",
      "metadata": {
        "id": "nrIFgsRw0pRZ"
      },
      "source": [
        "#### 10. Find indices of non-zero elements from \\[1,2,0,0,4,0\\] (★☆☆) \n",
        "(**hint**: np.nonzero)"
      ]
    },
    {
      "cell_type": "code",
      "execution_count": 10,
      "metadata": {
        "colab": {
          "base_uri": "https://localhost:8080/"
        },
        "id": "TYvMJVkx0pRa",
        "outputId": "def90571-8438-4141-f49d-ede65f674966"
      },
      "outputs": [
        {
          "output_type": "execute_result",
          "data": {
            "text/plain": [
              "array([0, 1, 4])"
            ]
          },
          "metadata": {},
          "execution_count": 10
        }
      ],
      "source": [
        "aa = np.nonzero( [1,2,0,0,4,0])[0]\n",
        "aa"
      ]
    },
    {
      "cell_type": "markdown",
      "metadata": {
        "id": "LZJanpwC0pRa"
      },
      "source": [
        "#### 11. Create a 3x3 identity matrix (★☆☆) \n",
        "(**hint**: np.eye)"
      ]
    },
    {
      "cell_type": "code",
      "execution_count": 11,
      "metadata": {
        "colab": {
          "base_uri": "https://localhost:8080/"
        },
        "id": "11-PE3Jw0pRb",
        "outputId": "46fe0817-cc1e-479a-83bd-1d0a194009d5"
      },
      "outputs": [
        {
          "output_type": "execute_result",
          "data": {
            "text/plain": [
              "array([[1., 0., 0.],\n",
              "       [0., 1., 0.],\n",
              "       [0., 0., 1.]])"
            ]
          },
          "metadata": {},
          "execution_count": 11
        }
      ],
      "source": [
        "I=np.eye(3,3)\n",
        "I"
      ]
    },
    {
      "cell_type": "markdown",
      "metadata": {
        "id": "RCvWJiT10pRb"
      },
      "source": [
        "#### 12. Create a 3x3x3 array with random values (★☆☆) \n",
        "(**hint**: np.random.random)"
      ]
    },
    {
      "cell_type": "code",
      "execution_count": 12,
      "metadata": {
        "collapsed": true,
        "id": "t_smSi8S0pRc",
        "colab": {
          "base_uri": "https://localhost:8080/"
        },
        "outputId": "358bfa9b-111a-4d47-cd4a-250b92d37fe9"
      },
      "outputs": [
        {
          "output_type": "execute_result",
          "data": {
            "text/plain": [
              "array([[[0.63138424, 0.27326913, 0.42997531],\n",
              "        [0.50240348, 0.19843311, 0.22846459],\n",
              "        [0.68628416, 0.18348752, 0.99618842]],\n",
              "\n",
              "       [[0.41091848, 0.09717151, 0.59083711],\n",
              "        [0.69691212, 0.90478642, 0.5925295 ],\n",
              "        [0.55861275, 0.6979444 , 0.94663583]],\n",
              "\n",
              "       [[0.71772902, 0.16162776, 0.83857339],\n",
              "        [0.79193055, 0.58378814, 0.55688596],\n",
              "        [0.42341076, 0.77271495, 0.95707141]]])"
            ]
          },
          "metadata": {},
          "execution_count": 12
        }
      ],
      "source": [
        "np.random.random((3,3,3))"
      ]
    },
    {
      "cell_type": "markdown",
      "metadata": {
        "id": "w7FbMacY0pRc"
      },
      "source": [
        "#### 13. Create a 10x10 array with random values and find the minimum and maximum values (★☆☆) \n",
        "(**hint**: min, max)"
      ]
    },
    {
      "cell_type": "code",
      "execution_count": 13,
      "metadata": {
        "id": "N7lgqv-P0pRd",
        "colab": {
          "base_uri": "https://localhost:8080/"
        },
        "outputId": "14ceee21-3332-4a7f-bca0-5352eb5234a6"
      },
      "outputs": [
        {
          "output_type": "stream",
          "name": "stdout",
          "text": [
            "0.9927604179922909\n",
            "0.005882572700710131\n"
          ]
        }
      ],
      "source": [
        "x=np.random.random((10,10))\n",
        "print(x.max())\n",
        "print(x.min())"
      ]
    },
    {
      "cell_type": "markdown",
      "metadata": {
        "id": "OM1DSIci0pRd"
      },
      "source": [
        "#### 14. Create a random vector of size 30 and find the mean value (★☆☆) \n",
        "(**hint**: mean)"
      ]
    },
    {
      "cell_type": "code",
      "execution_count": 14,
      "metadata": {
        "id": "283vlrbM0pRd",
        "colab": {
          "base_uri": "https://localhost:8080/"
        },
        "outputId": "0078c13f-15d6-4f2c-a0ba-7b14ea928ba9"
      },
      "outputs": [
        {
          "output_type": "stream",
          "name": "stdout",
          "text": [
            "0.5894297579268423\n"
          ]
        }
      ],
      "source": [
        "v=np.random.random(30)\n",
        "print(v.mean())"
      ]
    },
    {
      "cell_type": "markdown",
      "metadata": {
        "id": "8DBWqKz20pRe"
      },
      "source": [
        "#### 15. Create a 2d array with 1 on the border and 0 inside (★☆☆) \n",
        "(**hint**: array\\[1:-1, 1:-1\\])"
      ]
    },
    {
      "cell_type": "code",
      "execution_count": 15,
      "metadata": {
        "id": "rnVSlfCA0pRe",
        "colab": {
          "base_uri": "https://localhost:8080/"
        },
        "outputId": "73d23429-ed4f-4026-f17c-18441a002a59"
      },
      "outputs": [
        {
          "output_type": "execute_result",
          "data": {
            "text/plain": [
              "array([[1., 1., 1., 1., 1.],\n",
              "       [1., 0., 0., 0., 1.],\n",
              "       [1., 0., 0., 0., 1.],\n",
              "       [1., 0., 0., 0., 1.],\n",
              "       [1., 1., 1., 1., 1.]])"
            ]
          },
          "metadata": {},
          "execution_count": 15
        }
      ],
      "source": [
        "x2=np.ones((5,5))\n",
        "x2[1:-1, 1:-1]=0\n",
        "x2"
      ]
    },
    {
      "cell_type": "markdown",
      "metadata": {
        "id": "6aGHv8uf0pRf"
      },
      "source": [
        "#### 16. How to add a border (filled with 0's) around an existing array? (★☆☆) \n",
        "(**hint**: np.pad)"
      ]
    },
    {
      "cell_type": "code",
      "execution_count": 16,
      "metadata": {
        "id": "S1SaDWYL0pRf",
        "colab": {
          "base_uri": "https://localhost:8080/"
        },
        "outputId": "3d660fd9-3ee1-4262-da95-dd6b98fa454a"
      },
      "outputs": [
        {
          "output_type": "execute_result",
          "data": {
            "text/plain": [
              "array([[0., 0., 0., 0., 0., 0., 0.],\n",
              "       [0., 1., 1., 1., 1., 1., 0.],\n",
              "       [0., 1., 0., 0., 0., 1., 0.],\n",
              "       [0., 1., 0., 0., 0., 1., 0.],\n",
              "       [0., 1., 0., 0., 0., 1., 0.],\n",
              "       [0., 1., 1., 1., 1., 1., 0.],\n",
              "       [0., 0., 0., 0., 0., 0., 0.]])"
            ]
          },
          "metadata": {},
          "execution_count": 16
        }
      ],
      "source": [
        "x=np.pad(x2,1)\n",
        "x"
      ]
    },
    {
      "cell_type": "markdown",
      "metadata": {
        "id": "MzHdGXQx0pRg"
      },
      "source": [
        "#### 17. What is the result of the following expression? (★☆☆) \n",
        "(**hint**: NaN = not a number, inf = infinity)"
      ]
    },
    {
      "cell_type": "markdown",
      "metadata": {
        "id": "-_SvJa9L0pRg"
      },
      "source": [
        "```python\n",
        "0 * np.nan\n",
        "np.nan == np.nan\n",
        "np.inf > np.nan\n",
        "np.nan - np.nan\n",
        "0.3 == 3 * 0.1\n",
        "```"
      ]
    },
    {
      "cell_type": "markdown",
      "source": [
        "False"
      ],
      "metadata": {
        "id": "JBGhEegnCVY0"
      }
    },
    {
      "cell_type": "markdown",
      "metadata": {
        "id": "Y8A8jg5n0pRh"
      },
      "source": [
        "#### 18. Create a 5x5 matrix with values 1,2,3,4 just below the diagonal (★☆☆) \n",
        "(**hint**: np.diag)"
      ]
    },
    {
      "cell_type": "code",
      "execution_count": 17,
      "metadata": {
        "id": "HEofhWvO0pRi",
        "colab": {
          "base_uri": "https://localhost:8080/"
        },
        "outputId": "57ed3ece-9507-451a-be73-deecd567d3a7"
      },
      "outputs": [
        {
          "output_type": "execute_result",
          "data": {
            "text/plain": [
              "array([[0, 0, 0, 0, 0],\n",
              "       [1, 0, 0, 0, 0],\n",
              "       [0, 2, 0, 0, 0],\n",
              "       [0, 0, 3, 0, 0],\n",
              "       [0, 0, 0, 4, 0]])"
            ]
          },
          "metadata": {},
          "execution_count": 17
        }
      ],
      "source": [
        "xx=np.zeros((5,5))\n",
        "X=np.diag(1+np.arange(4),k=-1)\n",
        "X"
      ]
    },
    {
      "cell_type": "markdown",
      "metadata": {
        "id": "_8xCIST40pRj"
      },
      "source": [
        "#### 19. Create a 8x8 matrix and fill it with a checkerboard pattern (★☆☆) \n",
        "(**hint**: array\\[::2\\])"
      ]
    },
    {
      "cell_type": "code",
      "execution_count": 18,
      "metadata": {
        "id": "TsUwaGjZ0pRj",
        "colab": {
          "base_uri": "https://localhost:8080/"
        },
        "outputId": "8706f7ed-696c-415d-c7f2-6855213d7770"
      },
      "outputs": [
        {
          "output_type": "stream",
          "name": "stdout",
          "text": [
            "[[0 1 0 1 0 1 0 1]\n",
            " [1 0 1 0 1 0 1 0]\n",
            " [0 1 0 1 0 1 0 1]\n",
            " [1 0 1 0 1 0 1 0]\n",
            " [0 1 0 1 0 1 0 1]\n",
            " [1 0 1 0 1 0 1 0]\n",
            " [0 1 0 1 0 1 0 1]\n",
            " [1 0 1 0 1 0 1 0]]\n"
          ]
        }
      ],
      "source": [
        "x = np.zeros((8,8),dtype=int)\n",
        "x[1::2,::2] = 1\n",
        "x[::2,1::2] = 1\n",
        "print(x)"
      ]
    },
    {
      "cell_type": "markdown",
      "metadata": {
        "id": "cENbsqrD0pRk"
      },
      "source": [
        "#### 20. Consider a (6,7,8) shape array, what is the index (x,y,z) of the 100th element? \n",
        "(**hint**: np.unravel_index)"
      ]
    },
    {
      "cell_type": "code",
      "execution_count": 19,
      "metadata": {
        "id": "NMjKzEn50pRk",
        "colab": {
          "base_uri": "https://localhost:8080/"
        },
        "outputId": "dd9f9ba4-d956-4628-f1ac-1d24f6646186"
      },
      "outputs": [
        {
          "output_type": "execute_result",
          "data": {
            "text/plain": [
              "(1, 5, 4)"
            ]
          },
          "metadata": {},
          "execution_count": 19
        }
      ],
      "source": [
        "a=np.arange(6*7*8)\n",
        "A=a.reshape(6,7,8)\n",
        "np.unravel_index(100,(6,7,8))"
      ]
    },
    {
      "cell_type": "markdown",
      "metadata": {
        "id": "sjplImVd0pRk"
      },
      "source": [
        "#### 21. Create a checkerboard 8x8 matrix using the tile function (★☆☆) \n",
        "(**hint**: np.tile)"
      ]
    },
    {
      "cell_type": "code",
      "execution_count": 20,
      "metadata": {
        "id": "32BYAvDp0pRk",
        "colab": {
          "base_uri": "https://localhost:8080/"
        },
        "outputId": "39b87490-ae34-4b66-fbb7-13d5ed905694"
      },
      "outputs": [
        {
          "output_type": "execute_result",
          "data": {
            "text/plain": [
              "array([[0, 1, 0, 1, 0, 1, 0, 1],\n",
              "       [1, 0, 1, 0, 1, 0, 1, 0],\n",
              "       [0, 1, 0, 1, 0, 1, 0, 1],\n",
              "       [1, 0, 1, 0, 1, 0, 1, 0],\n",
              "       [0, 1, 0, 1, 0, 1, 0, 1],\n",
              "       [1, 0, 1, 0, 1, 0, 1, 0],\n",
              "       [0, 1, 0, 1, 0, 1, 0, 1],\n",
              "       [1, 0, 1, 0, 1, 0, 1, 0]])"
            ]
          },
          "metadata": {},
          "execution_count": 20
        }
      ],
      "source": [
        "a=np.array([[0,1],[1,0]])\n",
        "np.tile(a,(4,4))"
      ]
    },
    {
      "cell_type": "markdown",
      "metadata": {
        "id": "AQ5FFzSU0pRl"
      },
      "source": [
        "#### 22. Normalize a 5x5 random matrix (★☆☆) \n",
        "(**hint**: (x - min) / (max - min))"
      ]
    },
    {
      "cell_type": "code",
      "execution_count": 21,
      "metadata": {
        "id": "ulFrRMuo0pRl",
        "colab": {
          "base_uri": "https://localhost:8080/"
        },
        "outputId": "25ea2912-70bb-4d40-d8a5-10b5003344d6"
      },
      "outputs": [
        {
          "output_type": "execute_result",
          "data": {
            "text/plain": [
              "array([[0.62157497, 1.        , 0.31340925, 0.46550644, 0.74956325],\n",
              "       [0.        , 0.91211586, 0.58186989, 0.67268989, 0.11626979],\n",
              "       [0.1429432 , 0.9597078 , 0.82501402, 0.62327627, 0.5550313 ],\n",
              "       [0.20653001, 0.68386702, 0.61838277, 0.78069055, 0.93397894],\n",
              "       [0.93142197, 0.26879628, 0.6665177 , 0.8262208 , 0.83776767]])"
            ]
          },
          "metadata": {},
          "execution_count": 21
        }
      ],
      "source": [
        "x=np.random.random((5,5))\n",
        "x_max=x.max()\n",
        "x_min=x.min()\n",
        "X=(x-x_min)/(x_max-x_min)\n",
        "X"
      ]
    },
    {
      "cell_type": "markdown",
      "metadata": {
        "id": "zI0Woe9e0pRl"
      },
      "source": [
        "#### 23. Create a custom dtype that describes a color as four unsigned bytes (RGBA) (★☆☆) \n",
        "(**hint**: np.dtype)"
      ]
    },
    {
      "cell_type": "code",
      "execution_count": 22,
      "metadata": {
        "collapsed": true,
        "id": "4ykHsyU90pRl",
        "colab": {
          "base_uri": "https://localhost:8080/"
        },
        "outputId": "61edf6ff-161a-4d7d-8371-50941b7bb5e3"
      },
      "outputs": [
        {
          "output_type": "stream",
          "name": "stderr",
          "text": [
            "/usr/local/lib/python3.7/dist-packages/ipykernel_launcher.py:4: FutureWarning: Passing (type, 1) or '1type' as a synonym of type is deprecated; in a future version of numpy, it will be understood as (type, (1,)) / '(1,)type'.\n",
            "  after removing the cwd from sys.path.\n"
          ]
        }
      ],
      "source": [
        "color = np.dtype([(\"r\", np.ubyte, 1),\n",
        "                  (\"g\", np.ubyte, 1),\n",
        "                  (\"b\", np.ubyte, 1),\n",
        "                  (\"a\", np.ubyte, 1)])"
      ]
    },
    {
      "cell_type": "markdown",
      "metadata": {
        "id": "uK77kQBT0pRm"
      },
      "source": [
        "#### 24. Multiply a 5x3 matrix by a 3x2 matrix (real matrix product) (★☆☆) \n",
        "(**hint**: np.dot | @)"
      ]
    },
    {
      "cell_type": "code",
      "execution_count": 23,
      "metadata": {
        "id": "SLpPQ2oV0pRm",
        "colab": {
          "base_uri": "https://localhost:8080/"
        },
        "outputId": "3a89d5a6-ed4a-41cb-dae0-b2a6369a535f"
      },
      "outputs": [
        {
          "output_type": "execute_result",
          "data": {
            "text/plain": [
              "array([[ 10,  13],\n",
              "       [ 28,  40],\n",
              "       [ 46,  67],\n",
              "       [ 64,  94],\n",
              "       [ 82, 121]])"
            ]
          },
          "metadata": {},
          "execution_count": 23
        }
      ],
      "source": [
        "x = np.arange(15).reshape((5, 3))\n",
        "y = np.arange(6).reshape((3, 2))\n",
        "np.dot(x, y)"
      ]
    },
    {
      "cell_type": "markdown",
      "metadata": {
        "id": "1Y95ZLlo0pRm"
      },
      "source": [
        "#### 25. Given a 1D array, negate all elements which are between 3 and 8, in place. (★☆☆) \n",
        "(**hint**: >, <=)"
      ]
    },
    {
      "cell_type": "code",
      "execution_count": 24,
      "metadata": {
        "id": "22Z2b6xM0pRm",
        "colab": {
          "base_uri": "https://localhost:8080/"
        },
        "outputId": "c957dc72-14db-4a98-f42f-45b52a322841"
      },
      "outputs": [
        {
          "output_type": "execute_result",
          "data": {
            "text/plain": [
              "array([ 0,  1,  2, -1, -1, -1, -1, -1, -1,  9, 10])"
            ]
          },
          "metadata": {},
          "execution_count": 24
        }
      ],
      "source": [
        "x = np.arange(11)\n",
        "x[(x >= 3) & (x <= 8)] = -1\n",
        "x"
      ]
    },
    {
      "cell_type": "markdown",
      "metadata": {
        "id": "EmixfPZc0pRm"
      },
      "source": [
        "#### 26. What is the output of the following script? (★☆☆) \n",
        "(**hint**: np.sum)"
      ]
    },
    {
      "cell_type": "markdown",
      "metadata": {
        "id": "RZeudlCu0pRn"
      },
      "source": [
        "```python\n",
        "# Author: Jake VanderPlas\n",
        "\n",
        "print(sum(range(5),-1))\n",
        "from numpy import *\n",
        "print(sum(range(5),-1))\n",
        "```"
      ]
    },
    {
      "cell_type": "code",
      "execution_count": 25,
      "metadata": {
        "id": "ACtrqr3z0pRn",
        "colab": {
          "base_uri": "https://localhost:8080/"
        },
        "outputId": "8da4476c-def5-4ffa-c0e2-fe3db76e3c80"
      },
      "outputs": [
        {
          "output_type": "stream",
          "name": "stdout",
          "text": [
            "9\n",
            "10\n"
          ]
        }
      ],
      "source": [
        "print(sum(range(5),-1))\n",
        "from numpy import *\n",
        "print(sum(range(5),-1))"
      ]
    },
    {
      "cell_type": "markdown",
      "metadata": {
        "id": "-Z2blI000pRn"
      },
      "source": [
        "#### 27. Consider an integer vector Z, which of these expressions are legal? (★☆☆)"
      ]
    },
    {
      "cell_type": "markdown",
      "metadata": {
        "id": "xeDBnxDJ0pRn"
      },
      "source": [
        "```python\n",
        "Z**Z #legal expression\n",
        "2 << Z >>2 #legal expression\n",
        "Z <- Z #legal expression\n",
        "1j*Z #legal expression\n",
        "Z/1/1 #legal expression\n",
        "Z<Z>Z #Value error\n",
        "```"
      ]
    },
    {
      "cell_type": "code",
      "source": [
        "Z=np.arange(4)"
      ],
      "metadata": {
        "id": "SlPCt6vIkZGy"
      },
      "execution_count": 26,
      "outputs": []
    },
    {
      "cell_type": "code",
      "source": [
        "Z**Z"
      ],
      "metadata": {
        "colab": {
          "base_uri": "https://localhost:8080/"
        },
        "id": "1kSgiqekhMT0",
        "outputId": "3a04009e-64ae-4115-db5f-5cbc26a6d594"
      },
      "execution_count": 27,
      "outputs": [
        {
          "output_type": "execute_result",
          "data": {
            "text/plain": [
              "array([ 1,  1,  4, 27])"
            ]
          },
          "metadata": {},
          "execution_count": 27
        }
      ]
    },
    {
      "cell_type": "code",
      "source": [
        "2<<Z>>2"
      ],
      "metadata": {
        "colab": {
          "base_uri": "https://localhost:8080/"
        },
        "id": "byo7AkoqhMhO",
        "outputId": "77b90396-d1ff-4fce-bbad-d29c545a23c4"
      },
      "execution_count": 28,
      "outputs": [
        {
          "output_type": "execute_result",
          "data": {
            "text/plain": [
              "array([0, 1, 2, 4])"
            ]
          },
          "metadata": {},
          "execution_count": 28
        }
      ]
    },
    {
      "cell_type": "code",
      "source": [
        "Z<-Z"
      ],
      "metadata": {
        "colab": {
          "base_uri": "https://localhost:8080/"
        },
        "id": "sN9701NHhMt5",
        "outputId": "49247486-d6e9-4de2-9795-8747d95eef37"
      },
      "execution_count": 29,
      "outputs": [
        {
          "output_type": "execute_result",
          "data": {
            "text/plain": [
              "array([False, False, False, False])"
            ]
          },
          "metadata": {},
          "execution_count": 29
        }
      ]
    },
    {
      "cell_type": "code",
      "source": [
        "1j*Z"
      ],
      "metadata": {
        "colab": {
          "base_uri": "https://localhost:8080/"
        },
        "id": "GzP9JQVEhY4t",
        "outputId": "8f719cf9-d890-46c5-9d43-26cd036851f9"
      },
      "execution_count": 30,
      "outputs": [
        {
          "output_type": "execute_result",
          "data": {
            "text/plain": [
              "array([0.+0.j, 0.+1.j, 0.+2.j, 0.+3.j])"
            ]
          },
          "metadata": {},
          "execution_count": 30
        }
      ]
    },
    {
      "cell_type": "code",
      "source": [
        "Z/1/1\n"
      ],
      "metadata": {
        "colab": {
          "base_uri": "https://localhost:8080/"
        },
        "id": "VHMmi96EiC5H",
        "outputId": "ef546d55-8e68-4cb4-c6fe-3b1f536c83ad"
      },
      "execution_count": 31,
      "outputs": [
        {
          "output_type": "execute_result",
          "data": {
            "text/plain": [
              "array([0., 1., 2., 3.])"
            ]
          },
          "metadata": {},
          "execution_count": 31
        }
      ]
    },
    {
      "cell_type": "code",
      "source": [
        "Z<Z>Z"
      ],
      "metadata": {
        "colab": {
          "base_uri": "https://localhost:8080/",
          "height": 165
        },
        "id": "IITdJJ2kiQdr",
        "outputId": "b195ec7e-7d13-42c2-cfd7-db2bb3717aeb"
      },
      "execution_count": 32,
      "outputs": [
        {
          "output_type": "error",
          "ename": "ValueError",
          "evalue": "ignored",
          "traceback": [
            "\u001b[0;31m---------------------------------------------------------------------------\u001b[0m",
            "\u001b[0;31mValueError\u001b[0m                                Traceback (most recent call last)",
            "\u001b[0;32m<ipython-input-32-6d2bd9eb1fd1>\u001b[0m in \u001b[0;36m<module>\u001b[0;34m\u001b[0m\n\u001b[0;32m----> 1\u001b[0;31m \u001b[0mZ\u001b[0m\u001b[0;34m<\u001b[0m\u001b[0mZ\u001b[0m\u001b[0;34m>\u001b[0m\u001b[0mZ\u001b[0m\u001b[0;34m\u001b[0m\u001b[0;34m\u001b[0m\u001b[0m\n\u001b[0m",
            "\u001b[0;31mValueError\u001b[0m: The truth value of an array with more than one element is ambiguous. Use a.any() or a.all()"
          ]
        }
      ]
    },
    {
      "cell_type": "markdown",
      "metadata": {
        "id": "AJgBE0al0pRo"
      },
      "source": [
        "#### 28. What are the result of the following expressions?"
      ]
    },
    {
      "cell_type": "markdown",
      "metadata": {
        "id": "yxJoInrp0pRo"
      },
      "source": [
        "```python\n",
        "np.array(0) / np.array(0)\n",
        "np.array(0) // np.array(0)\n",
        "np.array([np.nan]).astype(int).astype(float)\n",
        "```"
      ]
    },
    {
      "cell_type": "code",
      "execution_count": 33,
      "metadata": {
        "id": "CFqh69kB0pRo",
        "colab": {
          "base_uri": "https://localhost:8080/"
        },
        "outputId": "84016e39-a58e-4397-f114-2759ac0752b0"
      },
      "outputs": [
        {
          "output_type": "stream",
          "name": "stderr",
          "text": [
            "/usr/local/lib/python3.7/dist-packages/ipykernel_launcher.py:1: RuntimeWarning: invalid value encountered in true_divide\n",
            "  \"\"\"Entry point for launching an IPython kernel.\n",
            "/usr/local/lib/python3.7/dist-packages/ipykernel_launcher.py:2: RuntimeWarning: divide by zero encountered in floor_divide\n",
            "  \n"
          ]
        },
        {
          "output_type": "execute_result",
          "data": {
            "text/plain": [
              "array([-9.22337204e+18])"
            ]
          },
          "metadata": {},
          "execution_count": 33
        }
      ],
      "source": [
        "np.array(0)/np.array(0)\n",
        "np.array(0)//np.array(0)\n",
        "np.array([np.nan]).astype(int).astype(float)"
      ]
    },
    {
      "cell_type": "markdown",
      "metadata": {
        "id": "L9Zk_YkH0pRo"
      },
      "source": [
        "#### 29. How to round away from zero a float array ? (★☆☆) \n",
        "(**hint**: np.uniform, np.copysign, np.ceil, np.abs)"
      ]
    },
    {
      "cell_type": "code",
      "execution_count": 34,
      "metadata": {
        "id": "a07aqPkm0pRp",
        "colab": {
          "base_uri": "https://localhost:8080/"
        },
        "outputId": "787d4294-5e33-4c03-ee3c-d7434a907e77"
      },
      "outputs": [
        {
          "output_type": "execute_result",
          "data": {
            "text/plain": [
              "array([ 10.,  10., -11.,   1.,  10., -20.,  15.,  12.,  16., -15., -17.,\n",
              "         4., -16., -14., -17.,  18.,  17.,   3.,  -4.,  -8.])"
            ]
          },
          "metadata": {},
          "execution_count": 34
        }
      ],
      "source": [
        "x1=np.random.uniform(-20,20,20)\n",
        "x2=np.abs(x1)\n",
        "x3=np.ceil(x2)\n",
        "x4=np.copysign(x3,x1)\n",
        "x4"
      ]
    },
    {
      "cell_type": "markdown",
      "metadata": {
        "id": "6RPMlqCd0pRp"
      },
      "source": [
        "#### 30. How to find common values between two arrays? (★☆☆) \n",
        "(**hint**: np.intersect1d)"
      ]
    },
    {
      "cell_type": "code",
      "execution_count": 35,
      "metadata": {
        "id": "VsR4h0Nt0pRp",
        "colab": {
          "base_uri": "https://localhost:8080/"
        },
        "outputId": "6e271680-7e9b-4d1d-8d57-4b157264069f"
      },
      "outputs": [
        {
          "output_type": "execute_result",
          "data": {
            "text/plain": [
              "array([5, 6, 7, 8])"
            ]
          },
          "metadata": {},
          "execution_count": 35
        }
      ],
      "source": [
        "x=np.array([1,2,3,4,5,6,7,8])\n",
        "y=np.array([5,6,7,8,9,10])\n",
        "np.intersect1d(x,y)"
      ]
    },
    {
      "cell_type": "markdown",
      "metadata": {
        "id": "kl618pPe0pRp"
      },
      "source": [
        "#### 31. How to ignore all numpy warnings (not recommended)? (★☆☆) \n",
        "(**hint**: np.seterr, np.errstate)"
      ]
    },
    {
      "cell_type": "code",
      "execution_count": 36,
      "metadata": {
        "id": "ik6vh4RS0pRp",
        "colab": {
          "base_uri": "https://localhost:8080/"
        },
        "outputId": "b5951a9e-3ee7-4b89-ed33-01d7d12e317c"
      },
      "outputs": [
        {
          "output_type": "execute_result",
          "data": {
            "text/plain": [
              "{'divide': 'ignore', 'over': 'raise', 'under': 'ignore', 'invalid': 'ignore'}"
            ]
          },
          "metadata": {},
          "execution_count": 36
        }
      ],
      "source": [
        "old_settings = np.seterr(all='ignore')  #seterr to known value\n",
        "np.seterr(over='raise')\n",
        "np.seterr(**old_settings)  # reset to default"
      ]
    },
    {
      "cell_type": "markdown",
      "metadata": {
        "id": "oOKwQ_aH0pRq"
      },
      "source": [
        "#### 32. Is the following expressions true? (★☆☆) \n",
        "(**hint**: imaginary number)"
      ]
    },
    {
      "cell_type": "markdown",
      "metadata": {
        "id": "yFbvxclj0pRq"
      },
      "source": [
        "```python\n",
        "np.sqrt(-1) == np.emath.sqrt(-1)\n",
        "```\n",
        "False\n"
      ]
    },
    {
      "cell_type": "code",
      "execution_count": 37,
      "metadata": {
        "id": "k4TYkgRf0pRq",
        "colab": {
          "base_uri": "https://localhost:8080/"
        },
        "outputId": "5e76eb71-ac2d-4d79-8531-a024803ffd40"
      },
      "outputs": [
        {
          "output_type": "stream",
          "name": "stderr",
          "text": [
            "/usr/local/lib/python3.7/dist-packages/ipykernel_launcher.py:1: RuntimeWarning: invalid value encountered in sqrt\n",
            "  \"\"\"Entry point for launching an IPython kernel.\n"
          ]
        },
        {
          "output_type": "execute_result",
          "data": {
            "text/plain": [
              "False"
            ]
          },
          "metadata": {},
          "execution_count": 37
        }
      ],
      "source": [
        "np.sqrt(-1) == np.emath.sqrt(-1)"
      ]
    },
    {
      "cell_type": "markdown",
      "metadata": {
        "id": "Hx2Fpgah0pRq"
      },
      "source": [
        "#### 33. How to get the dates of yesterday, today and tomorrow? (★☆☆) \n",
        "(**hint**: np.datetime64, np.timedelta64)"
      ]
    },
    {
      "cell_type": "code",
      "execution_count": 38,
      "metadata": {
        "collapsed": true,
        "id": "SuS19ubV0pRq",
        "colab": {
          "base_uri": "https://localhost:8080/"
        },
        "outputId": "d867f099-fc83-4317-ffb0-dda2e87b9a8c"
      },
      "outputs": [
        {
          "output_type": "execute_result",
          "data": {
            "text/plain": [
              "numpy.datetime64('2022-11-02')"
            ]
          },
          "metadata": {},
          "execution_count": 38
        }
      ],
      "source": [
        "today = np.datetime64('today', 'D')\n",
        "today"
      ]
    },
    {
      "cell_type": "code",
      "source": [
        "yesterday = today - np.timedelta64(1, 'D')\n",
        "yesterday"
      ],
      "metadata": {
        "colab": {
          "base_uri": "https://localhost:8080/"
        },
        "id": "Dk-1_JUOvqmI",
        "outputId": "d12cce7c-c630-4618-abb6-2c67d25afb21"
      },
      "execution_count": 39,
      "outputs": [
        {
          "output_type": "execute_result",
          "data": {
            "text/plain": [
              "numpy.datetime64('2022-11-01')"
            ]
          },
          "metadata": {},
          "execution_count": 39
        }
      ]
    },
    {
      "cell_type": "code",
      "source": [
        "tomorrow = today + np.timedelta64(1, 'D')\n",
        "tomorrow"
      ],
      "metadata": {
        "colab": {
          "base_uri": "https://localhost:8080/"
        },
        "id": "mm_toT2FvqxB",
        "outputId": "08b3eb34-e8d6-4673-9253-88d9bb0d9a99"
      },
      "execution_count": 40,
      "outputs": [
        {
          "output_type": "execute_result",
          "data": {
            "text/plain": [
              "numpy.datetime64('2022-11-03')"
            ]
          },
          "metadata": {},
          "execution_count": 40
        }
      ]
    },
    {
      "cell_type": "markdown",
      "metadata": {
        "id": "BbNcB-9Q0pRr"
      },
      "source": [
        "#### 34. How to get all the dates corresponding to the month of July 2016? (★★☆) \n",
        "(**hint**: np.arange(dtype=datetime64\\['D'\\]))"
      ]
    },
    {
      "cell_type": "code",
      "execution_count": 41,
      "metadata": {
        "id": "DjDhNfwD0pRr",
        "colab": {
          "base_uri": "https://localhost:8080/"
        },
        "outputId": "e56c3d16-93f4-4617-d5ec-56dfa687da12"
      },
      "outputs": [
        {
          "output_type": "execute_result",
          "data": {
            "text/plain": [
              "array(['2017-03-01', '2017-03-02', '2017-03-03', '2017-03-04',\n",
              "       '2017-03-05', '2017-03-06', '2017-03-07', '2017-03-08',\n",
              "       '2017-03-09', '2017-03-10', '2017-03-11', '2017-03-12',\n",
              "       '2017-03-13', '2017-03-14', '2017-03-15', '2017-03-16',\n",
              "       '2017-03-17', '2017-03-18', '2017-03-19', '2017-03-20',\n",
              "       '2017-03-21', '2017-03-22', '2017-03-23', '2017-03-24',\n",
              "       '2017-03-25', '2017-03-26', '2017-03-27', '2017-03-28',\n",
              "       '2017-03-29', '2017-03-30', '2017-03-31'], dtype='datetime64[D]')"
            ]
          },
          "metadata": {},
          "execution_count": 41
        }
      ],
      "source": [
        "x=np.arange('2017-03', '2017-04', dtype='datetime64[D]')\n",
        "x"
      ]
    },
    {
      "cell_type": "markdown",
      "metadata": {
        "id": "8IEuUZyR0pRr"
      },
      "source": [
        "#### 35. How to compute ((A+B)\\*(-A/2)) in place (without copy)? (★★☆) \n",
        "(**hint**: np.add(out=), np.negative(out=), np.multiply(out=), np.divide(out=))"
      ]
    },
    {
      "cell_type": "code",
      "execution_count": 42,
      "metadata": {
        "id": "U1s586GT0pRr",
        "colab": {
          "base_uri": "https://localhost:8080/"
        },
        "outputId": "36116e74-a356-4ff0-da2e-2d62c1810ef9"
      },
      "outputs": [
        {
          "output_type": "execute_result",
          "data": {
            "text/plain": [
              "array([-1.5, -1.5, -1.5])"
            ]
          },
          "metadata": {},
          "execution_count": 42
        }
      ],
      "source": [
        "A = np.ones(3)*1\n",
        "\n",
        "B = np.ones(3)*2\n",
        "\n",
        "C = np.ones(3)*3\n",
        "\n",
        "np.add(A,B,out=B)\n",
        "\n",
        "np.divide(A,2,out=A)\n",
        "\n",
        "np.negative(A,out=A)\n",
        "\n",
        "np.multiply(A,B,out=A)"
      ]
    },
    {
      "cell_type": "markdown",
      "metadata": {
        "id": "AubGvmFi0pRr"
      },
      "source": [
        "#### 36. Extract the integer part of a random array using 5 different methods (★★☆) \n",
        "(**hint**: %, np.floor, np.ceil, astype, np.trunc)"
      ]
    },
    {
      "cell_type": "code",
      "execution_count": 43,
      "metadata": {
        "id": "FI1xphOZ0pRs",
        "colab": {
          "base_uri": "https://localhost:8080/"
        },
        "outputId": "cff55190-0a2f-4a17-e673-5412a5ac9261"
      },
      "outputs": [
        {
          "output_type": "stream",
          "name": "stdout",
          "text": [
            "[7. 5. 0. 9. 3. 2. 8. 5. 5. 9.]\n",
            "[7. 5. 0. 9. 3. 2. 8. 5. 5. 9.]\n",
            "[7. 5. 0. 9. 3. 2. 8. 5. 5. 9.]\n",
            "[7 5 0 9 3 2 8 5 5 9]\n",
            "[7. 5. 0. 9. 3. 2. 8. 5. 5. 9.]\n"
          ]
        }
      ],
      "source": [
        "Z = np.random.uniform(0,10,10)\n",
        "\n",
        "print (Z - Z%1)\n",
        "\n",
        "print (np.floor(Z))\n",
        "\n",
        "print (np.ceil(Z)-1)\n",
        "\n",
        "print (Z.astype(int))\n",
        "\n",
        "print (np.trunc(Z))"
      ]
    },
    {
      "cell_type": "markdown",
      "metadata": {
        "id": "9DDhjzWA0pRs"
      },
      "source": [
        "#### 37. Create a 5x5 matrix with row values ranging from 0 to 4 (★★☆) \n",
        "(**hint**: np.arange)"
      ]
    },
    {
      "cell_type": "code",
      "execution_count": 44,
      "metadata": {
        "id": "0yiHg9060pRs",
        "colab": {
          "base_uri": "https://localhost:8080/"
        },
        "outputId": "824bafc6-76a8-4a35-b897-7f917ef5d1e3"
      },
      "outputs": [
        {
          "output_type": "execute_result",
          "data": {
            "text/plain": [
              "array([[0., 1., 2., 3., 4.],\n",
              "       [0., 1., 2., 3., 4.],\n",
              "       [0., 1., 2., 3., 4.],\n",
              "       [0., 1., 2., 3., 4.],\n",
              "       [0., 1., 2., 3., 4.]])"
            ]
          },
          "metadata": {},
          "execution_count": 44
        }
      ],
      "source": [
        "x = np.zeros((5,5))\n",
        "x += np.arange(5)\n",
        "x"
      ]
    },
    {
      "cell_type": "markdown",
      "metadata": {
        "id": "mJBc-LQc0pRs"
      },
      "source": [
        "#### 38. Consider a generator function that generates 10 integers and use it to build an array (★☆☆) \n",
        "(**hint**: np.fromiter)"
      ]
    },
    {
      "cell_type": "code",
      "execution_count": 45,
      "metadata": {
        "id": "bue4moRw0pRt",
        "colab": {
          "base_uri": "https://localhost:8080/"
        },
        "outputId": "8b83d655-4339-4460-c189-3c95c35f5b08"
      },
      "outputs": [
        {
          "output_type": "stream",
          "name": "stdout",
          "text": [
            "[7.0197886  5.9633036  0.94322496 9.96068728 3.76606749 2.56269233\n",
            " 8.46250055 5.52202044 5.32221199 9.61845312]\n"
          ]
        }
      ],
      "source": [
        "def generate():\n",
        "    for x in range(10):\n",
        "        yield x\n",
        "        Z = np.fromiter(generate(),dtype=float,count=-1)\n",
        "print(Z)"
      ]
    },
    {
      "cell_type": "markdown",
      "metadata": {
        "id": "YlJlZelD0pRt"
      },
      "source": [
        "#### 39. Create a vector of size 10 with values ranging from 0 to 1, both excluded (★★☆) \n",
        "(**hint**: np.linspace)"
      ]
    },
    {
      "cell_type": "code",
      "execution_count": 46,
      "metadata": {
        "id": "sMCEI8eY0pRu",
        "colab": {
          "base_uri": "https://localhost:8080/"
        },
        "outputId": "153ff3bb-7326-442e-b61e-f943fe5dcb7e"
      },
      "outputs": [
        {
          "output_type": "stream",
          "name": "stdout",
          "text": [
            "[0.09090909 0.18181818 0.27272727 0.36363636 0.45454545 0.54545455\n",
            " 0.63636364 0.72727273 0.81818182 0.90909091]\n"
          ]
        }
      ],
      "source": [
        "z=np.linspace(0,1,12)\n",
        "print(z[1:-1])"
      ]
    },
    {
      "cell_type": "markdown",
      "metadata": {
        "id": "N_yOD3pm0pRv"
      },
      "source": [
        "#### 40. Create a random vector of size 10 and sort it (★★☆) \n",
        "(**hint**: sort)"
      ]
    },
    {
      "cell_type": "code",
      "execution_count": 47,
      "metadata": {
        "id": "fK6IXK440pRv",
        "colab": {
          "base_uri": "https://localhost:8080/"
        },
        "outputId": "d8da98e8-bf30-4f34-a18e-82268a774bd7"
      },
      "outputs": [
        {
          "output_type": "stream",
          "name": "stdout",
          "text": [
            "[0.06772659 0.33919559 0.36734595 0.63511745 0.67693938 0.75140083\n",
            " 0.76431971 0.76589422 0.89837795 0.99260251]\n"
          ]
        }
      ],
      "source": [
        "Z=np.random.random(10)\n",
        "Z.sort()\n",
        "print(Z)"
      ]
    },
    {
      "cell_type": "markdown",
      "metadata": {
        "id": "2-thQVB20pRv"
      },
      "source": [
        "#### 41. How to sum a small array faster than np.sum? (★★☆) \n",
        "(**hint**: np.add.reduce)"
      ]
    },
    {
      "cell_type": "code",
      "execution_count": 48,
      "metadata": {
        "id": "qktBxpLY0pRv",
        "colab": {
          "base_uri": "https://localhost:8080/"
        },
        "outputId": "d426965e-b1bd-4e0d-fd4e-6bde644e4961"
      },
      "outputs": [
        {
          "output_type": "execute_result",
          "data": {
            "text/plain": [
              "45"
            ]
          },
          "metadata": {},
          "execution_count": 48
        }
      ],
      "source": [
        "Z=np.arange(10)\n",
        "np.add.reduce(Z)"
      ]
    },
    {
      "cell_type": "markdown",
      "metadata": {
        "id": "a1IQUW9Y0pRw"
      },
      "source": [
        "#### 42. Consider two random array A and B, check if they are equal (★★☆) \n",
        "(**hint**: np.allclose, np.array\\_equal)"
      ]
    },
    {
      "cell_type": "code",
      "execution_count": 49,
      "metadata": {
        "id": "tV8QnMO-0pRw",
        "colab": {
          "base_uri": "https://localhost:8080/"
        },
        "outputId": "4864e4ab-eda0-434a-dc31-a04dd9239cfe"
      },
      "outputs": [
        {
          "output_type": "execute_result",
          "data": {
            "text/plain": [
              "False"
            ]
          },
          "metadata": {},
          "execution_count": 49
        }
      ],
      "source": [
        "A=np.random.randint(0,2,5)\n",
        "B=np.random.randint(0,2,5)\n",
        "equal=np.allclose(A,B)\n",
        "equal"
      ]
    },
    {
      "cell_type": "markdown",
      "metadata": {
        "id": "s_YRagZn0pRw"
      },
      "source": [
        "#### 43. Make an array immutable (read-only) (★★☆) \n",
        "(**hint**: flags.writeable)"
      ]
    },
    {
      "cell_type": "code",
      "execution_count": 50,
      "metadata": {
        "id": "ajLZ4xlG0pRw",
        "colab": {
          "base_uri": "https://localhost:8080/",
          "height": 200
        },
        "outputId": "5e7584f2-5076-4726-a498-93b115150ec6"
      },
      "outputs": [
        {
          "output_type": "error",
          "ename": "ValueError",
          "evalue": "ignored",
          "traceback": [
            "\u001b[0;31m---------------------------------------------------------------------------\u001b[0m",
            "\u001b[0;31mValueError\u001b[0m                                Traceback (most recent call last)",
            "\u001b[0;32m<ipython-input-50-e5280283d1b0>\u001b[0m in \u001b[0;36m<module>\u001b[0;34m\u001b[0m\n\u001b[1;32m      3\u001b[0m \u001b[0mZ\u001b[0m\u001b[0;34m.\u001b[0m\u001b[0mflags\u001b[0m\u001b[0;34m.\u001b[0m\u001b[0mwriteable\u001b[0m \u001b[0;34m=\u001b[0m \u001b[0;32mFalse\u001b[0m\u001b[0;34m\u001b[0m\u001b[0;34m\u001b[0m\u001b[0m\n\u001b[1;32m      4\u001b[0m \u001b[0;34m\u001b[0m\u001b[0m\n\u001b[0;32m----> 5\u001b[0;31m \u001b[0mZ\u001b[0m\u001b[0;34m[\u001b[0m\u001b[0;36m0\u001b[0m\u001b[0;34m]\u001b[0m \u001b[0;34m=\u001b[0m \u001b[0;36m1\u001b[0m\u001b[0;34m\u001b[0m\u001b[0;34m\u001b[0m\u001b[0m\n\u001b[0m",
            "\u001b[0;31mValueError\u001b[0m: assignment destination is read-only"
          ]
        }
      ],
      "source": [
        "Z = np.zeros(10)\n",
        "\n",
        "Z.flags.writeable = False\n",
        "\n",
        "Z[0] = 1"
      ]
    },
    {
      "cell_type": "markdown",
      "metadata": {
        "id": "XHwwhPsk0pRw"
      },
      "source": [
        "#### 44. Consider a random 10x2 matrix representing cartesian coordinates, convert them to polar coordinates (★★☆) \n",
        "(**hint**: np.sqrt, np.arctan2)"
      ]
    },
    {
      "cell_type": "code",
      "execution_count": 51,
      "metadata": {
        "id": "FGNMlHZ30pRx",
        "colab": {
          "base_uri": "https://localhost:8080/"
        },
        "outputId": "90f0bfbf-9ca0-4ba2-d9bb-99515f99f095"
      },
      "outputs": [
        {
          "output_type": "stream",
          "name": "stdout",
          "text": [
            "[0.88190029 0.57905969 0.8192088  0.66291394 0.13566183 0.72728669\n",
            " 0.84938973 0.91975324 0.70966083 1.10716465]\n",
            "[0.19242198 1.30548654 1.42294506 0.40376629 1.21083224 1.21791589\n",
            " 1.14663152 0.87430732 0.5363976  0.51314778]\n"
          ]
        }
      ],
      "source": [
        "Z = np.random.random((10,2))\n",
        "\n",
        "X,Y = Z[:,0], Z[:,1]\n",
        "\n",
        "R = np.sqrt(X**2+Y**2)\n",
        "\n",
        "T = np.arctan2(Y,X)\n",
        "\n",
        "print(R)\n",
        "\n",
        "print(T)"
      ]
    },
    {
      "cell_type": "markdown",
      "metadata": {
        "id": "XzB0c1vx0pRx"
      },
      "source": [
        "#### 45. Create random vector of size 10 and replace the maximum value by 0 (★★☆) \n",
        "(**hint**: argmax)"
      ]
    },
    {
      "cell_type": "code",
      "execution_count": 52,
      "metadata": {
        "id": "h_07P0pG0pRx",
        "colab": {
          "base_uri": "https://localhost:8080/"
        },
        "outputId": "61878194-f450-4a64-b8b4-83fdd3c9aea0"
      },
      "outputs": [
        {
          "output_type": "stream",
          "name": "stdout",
          "text": [
            "[0.11672675 0.8562437  0.38986984 0.76298065 0.53190355 0.73464538\n",
            " 0.         0.68567649 0.71290803 0.87858927]\n"
          ]
        }
      ],
      "source": [
        "Z = np.random.random(10)\n",
        "\n",
        "Z[Z.argmax()] = 0\n",
        "\n",
        "print(Z)"
      ]
    },
    {
      "cell_type": "markdown",
      "metadata": {
        "id": "e4l1sgX80pRx"
      },
      "source": [
        "#### 46. Create a structured array with `x` and `y` coordinates covering the \\[0,1\\]x\\[0,1\\] area (★★☆) \n",
        "(**hint**: np.meshgrid)"
      ]
    },
    {
      "cell_type": "code",
      "execution_count": 53,
      "metadata": {
        "id": "RNPocYb80pRx",
        "colab": {
          "base_uri": "https://localhost:8080/"
        },
        "outputId": "e499c454-b10d-434f-8448-7cc19ad05e3b"
      },
      "outputs": [
        {
          "output_type": "stream",
          "name": "stdout",
          "text": [
            "[[(0.  , 0.  ) (0.25, 0.  ) (0.5 , 0.  ) (0.75, 0.  ) (1.  , 0.  )]\n",
            " [(0.  , 0.25) (0.25, 0.25) (0.5 , 0.25) (0.75, 0.25) (1.  , 0.25)]\n",
            " [(0.  , 0.5 ) (0.25, 0.5 ) (0.5 , 0.5 ) (0.75, 0.5 ) (1.  , 0.5 )]\n",
            " [(0.  , 0.75) (0.25, 0.75) (0.5 , 0.75) (0.75, 0.75) (1.  , 0.75)]\n",
            " [(0.  , 1.  ) (0.25, 1.  ) (0.5 , 1.  ) (0.75, 1.  ) (1.  , 1.  )]]\n"
          ]
        }
      ],
      "source": [
        "Z = np.zeros((5,5), [('x',float),('y',float)])\n",
        "\n",
        "Z['x'], Z['y'] = np.meshgrid(np.linspace(0,1,5),\n",
        "\n",
        "np.linspace(0,1,5))\n",
        "\n",
        "print(Z)"
      ]
    },
    {
      "cell_type": "markdown",
      "metadata": {
        "id": "QoUQcGZG0pRx"
      },
      "source": [
        "####  47. Given two arrays, X and Y, construct the Cauchy matrix C (Cij =1/(xi - yj)) \n",
        "(**hint**: np.subtract.outer)"
      ]
    },
    {
      "cell_type": "code",
      "source": [
        "x = np.random.random((5, 5))\n",
        "y = np.random.random((5, 5))\n",
        "c = 1 / (x - y)\n",
        "c = 1 / np.subtract.outer(x, y)\n",
        "np.linalg.det(c)"
      ],
      "metadata": {
        "colab": {
          "base_uri": "https://localhost:8080/"
        },
        "id": "E8DxMXfOjm8k",
        "outputId": "4ff271a8-94c9-442e-f2e6-54b9d12d47e2"
      },
      "execution_count": 54,
      "outputs": [
        {
          "output_type": "execute_result",
          "data": {
            "text/plain": [
              "array([[-7.57089485e+03, -3.88091996e+05,  3.90392270e+04,\n",
              "        -2.56673580e+06, -2.68080756e+03],\n",
              "       [ 9.73669768e+05,  7.59554384e+05, -9.26758916e+03,\n",
              "         4.85847785e+04,  4.86233844e+05],\n",
              "       [ 2.02350020e+06, -9.36846786e+05,  2.16923102e+05,\n",
              "         4.27923585e+04, -1.11980815e+05],\n",
              "       [ 9.64557184e+06,  2.01055707e+05,  1.38677568e+05,\n",
              "        -5.30690333e+06, -1.99428655e+05],\n",
              "       [-3.18240066e+02, -1.41494936e+04, -1.58452006e+05,\n",
              "        -2.75961804e+06,  1.36913448e+03]])"
            ]
          },
          "metadata": {},
          "execution_count": 54
        }
      ]
    },
    {
      "cell_type": "markdown",
      "metadata": {
        "id": "MmhZDcT90pRy"
      },
      "source": [
        "#### 48. Print the minimum and maximum representable value for each numpy scalar type (★★☆) \n",
        "(**hint**: np.iinfo, np.finfo, eps)"
      ]
    },
    {
      "cell_type": "code",
      "execution_count": 55,
      "metadata": {
        "id": "iU38OHuL0pRy",
        "colab": {
          "base_uri": "https://localhost:8080/"
        },
        "outputId": "2d208317-56e7-48a6-f594-baad16a7ab0d"
      },
      "outputs": [
        {
          "output_type": "stream",
          "name": "stdout",
          "text": [
            "-128\n",
            "127\n",
            "-2147483648\n",
            "2147483647\n",
            "-9223372036854775808\n",
            "9223372036854775807\n",
            "-3.4028235e+38\n",
            "3.4028235e+38\n",
            "1.1920929e-07\n",
            "-1.7976931348623157e+308\n",
            "1.7976931348623157e+308\n",
            "2.220446049250313e-16\n"
          ]
        }
      ],
      "source": [
        "for dtype in [np.int8, np.int32, np.int64]:\n",
        "\n",
        "    print(np.iinfo(dtype).min)\n",
        "\n",
        "    print(np.iinfo(dtype).max)\n",
        "\n",
        "for dtype in [np.float32, np.float64]:\n",
        "\n",
        "    print(np.finfo(dtype).min)\n",
        "\n",
        "    print(np.finfo(dtype).max)\n",
        "\n",
        "    print(np.finfo(dtype).eps)"
      ]
    },
    {
      "cell_type": "markdown",
      "metadata": {
        "id": "7QuytUSS0pRy"
      },
      "source": [
        "#### 49. How to print all the values of an array? (★★☆) \n",
        "(**hint**: np.set\\_printoptions)"
      ]
    },
    {
      "cell_type": "code",
      "execution_count": 56,
      "metadata": {
        "id": "J9i2mTCI0pRz",
        "colab": {
          "base_uri": "https://localhost:8080/"
        },
        "outputId": "00536b4f-3cb3-4157-b12b-69d207bb9bcc"
      },
      "outputs": [
        {
          "output_type": "stream",
          "name": "stdout",
          "text": [
            "[[6.08901856e-01 1.56889788e-01 7.14302567e-01 5.03116692e-02\n",
            "  8.19084938e-01 1.88201116e-01 7.87452219e-01 3.92322283e-01\n",
            "  7.22725488e-01 7.01927254e-01 8.05691530e-01 1.01285340e-01\n",
            "  6.97963885e-01 6.03470852e-01 2.31826953e-01 5.50036016e-01]\n",
            " [3.34465219e-02 6.65068044e-01 2.44684052e-01 2.84245096e-01\n",
            "  5.21467543e-01 3.86366463e-01 5.19232097e-01 7.88573933e-01\n",
            "  7.01724793e-01 2.37544496e-01 4.91389955e-01 7.06984077e-01\n",
            "  9.30513061e-01 5.53390162e-01 5.78882266e-02 4.53126890e-01]\n",
            " [1.05598435e-01 5.39415316e-01 9.81801354e-01 2.36935031e-01\n",
            "  8.56623432e-01 9.09165534e-01 2.97682813e-01 7.55693824e-01\n",
            "  3.62988364e-01 1.58660492e-01 8.15538686e-02 9.22361464e-01\n",
            "  5.99449596e-01 8.34791272e-01 9.07691963e-01 3.23888936e-01]\n",
            " [2.19698252e-01 5.78189731e-01 2.93130466e-01 6.56552379e-01\n",
            "  8.50313146e-01 7.09233609e-01 6.89147975e-01 7.76660788e-01\n",
            "  6.80632126e-01 3.44235612e-01 2.65794882e-01 5.16288912e-01\n",
            "  3.24372500e-01 4.62254084e-01 8.98776944e-01 2.01306354e-02]\n",
            " [2.24571841e-05 4.67011137e-03 2.53631252e-01 5.05162699e-01\n",
            "  6.86652386e-01 9.09106962e-01 5.20268396e-01 4.16816493e-01\n",
            "  1.16294347e-01 2.84668671e-01 1.31554737e-01 2.62380995e-01\n",
            "  2.60679733e-01 4.05539162e-01 4.48771106e-01 1.30667625e-01]\n",
            " [2.35065117e-02 5.35894504e-01 3.64758784e-01 3.01147295e-01\n",
            "  9.17264616e-01 7.43697754e-01 6.80125698e-01 3.45437176e-01\n",
            "  4.96540012e-01 1.67502143e-01 5.36517496e-01 2.33772276e-01\n",
            "  8.38662859e-02 9.63069839e-01 6.32361359e-01 2.76670343e-01]\n",
            " [8.92536308e-01 8.72723318e-01 6.39221493e-01 7.01229659e-01\n",
            "  4.90247023e-01 5.74498338e-01 2.22834969e-01 5.57998058e-01\n",
            "  4.46784610e-02 1.54479982e-01 2.57175863e-01 6.96398803e-01\n",
            "  9.85977573e-01 1.08547121e-01 5.69924119e-01 1.99579179e-01]\n",
            " [3.42806167e-02 3.74775942e-02 2.88490477e-01 7.06655776e-01\n",
            "  2.04522109e-01 3.49789642e-01 3.28484105e-01 4.57744704e-01\n",
            "  2.18188005e-01 3.21118497e-01 3.58568451e-01 4.50873558e-01\n",
            "  3.82269902e-01 4.39738177e-01 8.07698913e-01 2.66548141e-01]\n",
            " [5.12787273e-01 6.95669771e-01 8.28795470e-02 9.45555223e-01\n",
            "  2.98088374e-01 6.68458406e-01 6.41964145e-01 8.85486408e-01\n",
            "  3.13581491e-01 6.65251436e-01 1.66434518e-01 2.71660618e-01\n",
            "  7.43666138e-01 7.00676506e-01 6.17405733e-01 3.68518532e-01]\n",
            " [5.06714112e-01 5.57842020e-01 5.37917265e-01 1.36078918e-01\n",
            "  6.82234383e-01 2.35559285e-01 6.17519222e-01 3.11016106e-01\n",
            "  5.35889664e-01 1.40147131e-01 6.99746356e-02 2.48004568e-01\n",
            "  8.09593506e-01 5.55597381e-01 9.38387645e-01 9.55008557e-01]\n",
            " [6.46842336e-01 9.15709025e-01 1.07363829e-01 1.41089716e-01\n",
            "  7.00707843e-01 6.00831021e-01 3.98732161e-01 1.59759549e-01\n",
            "  7.58829691e-01 2.25769607e-01 5.80161318e-01 5.45221975e-01\n",
            "  7.04953360e-01 1.18304903e-01 4.23749387e-01 5.46708904e-01]\n",
            " [6.28785659e-01 9.88817260e-01 3.57523810e-01 4.28075168e-01\n",
            "  2.47160144e-01 2.86483694e-02 5.19943703e-01 5.71039144e-01\n",
            "  8.11629778e-01 1.44639118e-01 9.32356220e-01 4.87079680e-01\n",
            "  8.55581896e-01 8.37454859e-01 5.92180595e-01 4.52459208e-01]\n",
            " [3.13805144e-01 9.61787217e-01 6.88741182e-01 3.31173407e-01\n",
            "  5.54320378e-01 6.14316858e-01 7.30373678e-01 4.45645668e-01\n",
            "  6.11949203e-01 3.13163847e-01 6.12100317e-01 8.97613877e-01\n",
            "  3.69260938e-01 3.42366548e-01 5.17297404e-02 2.97835577e-01]\n",
            " [4.12239234e-01 2.59315112e-01 4.92093016e-01 5.00491129e-03\n",
            "  9.83929653e-01 9.36449959e-01 9.97052724e-01 6.88352110e-01\n",
            "  2.71894117e-01 3.24862402e-01 8.28022288e-02 5.91112348e-01\n",
            "  6.79218803e-01 4.43624275e-01 3.01340869e-01 2.11461130e-01]\n",
            " [3.66697835e-01 2.24052469e-01 8.97766470e-01 2.07059277e-01\n",
            "  1.62822528e-01 7.61725851e-01 3.50040321e-01 4.19335608e-01\n",
            "  9.44483434e-01 6.80969213e-02 5.69384731e-01 9.21574881e-01\n",
            "  8.64039747e-01 1.62479069e-01 5.69060899e-01 4.24181698e-01]\n",
            " [5.32438658e-01 2.71407581e-01 1.05909694e-01 2.04904316e-01\n",
            "  7.15064921e-01 6.93063325e-01 7.03646982e-01 8.19632301e-01\n",
            "  3.14566425e-01 3.70182304e-01 4.78874000e-01 4.41129977e-01\n",
            "  2.39503033e-01 2.30483392e-01 4.99027141e-01 5.81538978e-01]]\n"
          ]
        }
      ],
      "source": [
        "import sys\n",
        "np.set_printoptions(threshold=sys.maxsize)\n",
        "\n",
        "Z = np.random.random((16,16))\n",
        "\n",
        "\n",
        "print(Z)"
      ]
    },
    {
      "cell_type": "markdown",
      "metadata": {
        "id": "XvG8QCqb0pR0"
      },
      "source": [
        "#### 50. How to find the closest value (to a given scalar) in a vector? (★★☆) \n",
        "(**hint**: argmin)"
      ]
    },
    {
      "cell_type": "code",
      "execution_count": 57,
      "metadata": {
        "id": "qOdinbxR0pR0",
        "colab": {
          "base_uri": "https://localhost:8080/"
        },
        "outputId": "5d811221-1eb8-427d-a620-39ea5222073d"
      },
      "outputs": [
        {
          "output_type": "stream",
          "name": "stdout",
          "text": [
            "68\n"
          ]
        }
      ],
      "source": [
        "x = np.arange(100)\n",
        "\n",
        "a = np.random.uniform(0,100)\n",
        "\n",
        "\n",
        "index = (np.abs(x-a)).argmin()\n",
        "print(x[index])"
      ]
    },
    {
      "cell_type": "markdown",
      "metadata": {
        "id": "-DZM1iZj0pR0"
      },
      "source": [
        "#### 51. Create a structured array representing a position (x,y) and a color (r,g,b) (★★☆) \n",
        "(**hint**: dtype)"
      ]
    },
    {
      "cell_type": "code",
      "execution_count": 58,
      "metadata": {
        "id": "y_TP9pz00pR0",
        "colab": {
          "base_uri": "https://localhost:8080/"
        },
        "outputId": "87941fd5-4004-4534-9014-1d9c861dd764"
      },
      "outputs": [
        {
          "output_type": "stream",
          "name": "stdout",
          "text": [
            "[((0., 0.), (0., 0., 0.)) ((0., 0.), (0., 0., 0.))\n",
            " ((0., 0.), (0., 0., 0.)) ((0., 0.), (0., 0., 0.))\n",
            " ((0., 0.), (0., 0., 0.)) ((0., 0.), (0., 0., 0.))\n",
            " ((0., 0.), (0., 0., 0.)) ((0., 0.), (0., 0., 0.))\n",
            " ((0., 0.), (0., 0., 0.)) ((0., 0.), (0., 0., 0.))]\n"
          ]
        },
        {
          "output_type": "stream",
          "name": "stderr",
          "text": [
            "/usr/local/lib/python3.7/dist-packages/ipykernel_launcher.py:9: FutureWarning: Passing (type, 1) or '1type' as a synonym of type is deprecated; in a future version of numpy, it will be understood as (type, (1,)) / '(1,)type'.\n",
            "  if __name__ == '__main__':\n"
          ]
        }
      ],
      "source": [
        "Z = np.zeros(10, [ ('position', [ ('x', float, 1),\n",
        "\n",
        "('y', float, 1)]),\n",
        "\n",
        "('color', [ ('r', float, 1),\n",
        "\n",
        "('g', float, 1),\n",
        "\n",
        "('b', float, 1)])])\n",
        "\n",
        "print(Z)"
      ]
    },
    {
      "cell_type": "markdown",
      "metadata": {
        "id": "XEzFOMWF0pR1"
      },
      "source": [
        "#### 52. Consider a random vector with shape (100,2) representing coordinates, find point by point distances (★★☆) \n",
        "(**hint**: np.atleast\\_2d, T, np.sqrt)"
      ]
    },
    {
      "cell_type": "code",
      "execution_count": 59,
      "metadata": {
        "id": "VVkY1T-w0pR1",
        "colab": {
          "base_uri": "https://localhost:8080/"
        },
        "outputId": "630263bf-8f21-4fd1-e1b7-ccc3192440d7"
      },
      "outputs": [
        {
          "output_type": "stream",
          "name": "stdout",
          "text": [
            "[[0.         0.65119309 0.39633971 0.65252646 0.63433169 0.16039072\n",
            "  0.07345198 0.61876716 0.51440276 0.34944838]\n",
            " [0.65119309 0.         1.01777303 0.93515806 0.41864464 0.63517048\n",
            "  0.72386111 0.93454984 0.85070976 0.94289287]\n",
            " [0.39633971 1.01777303 0.         0.57005508 0.87301131 0.38598572\n",
            "  0.3279712  0.52248934 0.45847539 0.42609895]\n",
            " [0.65252646 0.93515806 0.57005508 0.         0.58125806 0.49884517\n",
            "  0.64320719 0.04791571 0.13878126 0.91525266]\n",
            " [0.63433169 0.41864464 0.87301131 0.58125806 0.         0.52001742\n",
            "  0.68668681 0.59565976 0.54112562 0.98344334]\n",
            " [0.16039072 0.63517048 0.38598572 0.49884517 0.52001742 0.\n",
            "  0.18098435 0.46834172 0.36272615 0.4883114 ]\n",
            " [0.07345198 0.72386111 0.3279712  0.64320719 0.68668681 0.18098435\n",
            "  0.         0.605759   0.50448616 0.30737403]\n",
            " [0.61876716 0.93454984 0.52248934 0.04791571 0.59565976 0.46834172\n",
            "  0.605759   0.         0.1057485  0.87265155]\n",
            " [0.51440276 0.85070976 0.45847539 0.13878126 0.54112562 0.36272615\n",
            "  0.50448616 0.1057485  0.         0.7801538 ]\n",
            " [0.34944838 0.94289287 0.42609895 0.91525266 0.98344334 0.4883114\n",
            "  0.30737403 0.87265155 0.7801538  0.        ]]\n"
          ]
        }
      ],
      "source": [
        "Z = np.random.random((10,2))\n",
        "X,Y = np.atleast_2d(Z[:,0]), np.atleast_2d(Z[:,1])\n",
        "D = np.sqrt( (X-X.T)**2 + (Y-Y.T)**2)\n",
        "print(D)"
      ]
    },
    {
      "cell_type": "markdown",
      "metadata": {
        "id": "w83i7T1y0pR1"
      },
      "source": [
        "#### 53. How to convert a float (32 bits) array into an integer (32 bits) in place? \n",
        "(**hint**: astype(copy=False))"
      ]
    },
    {
      "cell_type": "code",
      "execution_count": 60,
      "metadata": {
        "id": "yszEgEgT0pR1",
        "colab": {
          "base_uri": "https://localhost:8080/"
        },
        "outputId": "68995152-4388-4785-c85c-815ba148576e"
      },
      "outputs": [
        {
          "output_type": "stream",
          "name": "stdout",
          "text": [
            "[0. 1. 2. 3. 4. 5. 6. 7. 8. 9.]\n"
          ]
        }
      ],
      "source": [
        "Z = np.arange(10, dtype=np.int32)\n",
        "\n",
        "Z = Z.astype(np.float32, copy=False)\n",
        "\n",
        "print(Z)"
      ]
    },
    {
      "cell_type": "markdown",
      "metadata": {
        "id": "DjqCLRZf0pR1"
      },
      "source": [
        "#### 54. How to read the following file? (★★☆) \n",
        "(**hint**: np.genfromtxt)"
      ]
    },
    {
      "cell_type": "markdown",
      "metadata": {
        "id": "vjtY19HC0pR2"
      },
      "source": [
        "```\n",
        "1, 2, 3, 4, 5\n",
        "6,  ,  , 7, 8\n",
        " ,  , 9,10,11\n",
        "```"
      ]
    },
    {
      "cell_type": "code",
      "execution_count": 61,
      "metadata": {
        "id": "59de4pf60pR2",
        "colab": {
          "base_uri": "https://localhost:8080/"
        },
        "outputId": "0631edf8-172a-452c-8537-9844b355185b"
      },
      "outputs": [
        {
          "output_type": "stream",
          "name": "stdout",
          "text": [
            "[[ 1  2  3  4  5]\n",
            " [ 6 -1 -1  7  8]\n",
            " [-1 -1  9 10 11]]\n"
          ]
        }
      ],
      "source": [
        "from io import StringIO\n",
        "s = StringIO(\"\"\"1, 2, 3, 4, 5\\n\n",
        "\n",
        "6, , , 7, 8\\n\n",
        "\n",
        ", , 9,10,11\\n\"\"\")\n",
        "\n",
        "Z = np.genfromtxt(s, delimiter=\",\", dtype=int32)\n",
        "\n",
        "print(Z)"
      ]
    },
    {
      "cell_type": "markdown",
      "metadata": {
        "id": "YoMOThUJ0pR2"
      },
      "source": [
        "#### 55. What is the equivalent of enumerate for numpy arrays? (★★☆) \n",
        "(**hint**: np.ndenumerate, np.ndindex)"
      ]
    },
    {
      "cell_type": "code",
      "execution_count": 62,
      "metadata": {
        "id": "CiYiDg9O0pR2",
        "colab": {
          "base_uri": "https://localhost:8080/"
        },
        "outputId": "26de7b55-97c8-42c5-c59d-f211f6250fc6"
      },
      "outputs": [
        {
          "output_type": "stream",
          "name": "stdout",
          "text": [
            "(0, 0) 0\n",
            "(0, 1) 1\n",
            "(0, 2) 2\n",
            "(1, 0) 3\n",
            "(1, 1) 4\n",
            "(1, 2) 5\n",
            "(2, 0) 6\n",
            "(2, 1) 7\n",
            "(2, 2) 8\n",
            "(0, 0) 0\n",
            "(0, 1) 1\n",
            "(0, 2) 2\n",
            "(1, 0) 3\n",
            "(1, 1) 4\n",
            "(1, 2) 5\n",
            "(2, 0) 6\n",
            "(2, 1) 7\n",
            "(2, 2) 8\n"
          ]
        }
      ],
      "source": [
        "Z = np.arange(9).reshape(3,3)\n",
        "\n",
        "for index, value in np.ndenumerate(Z):\n",
        "  print(index, value)\n",
        "\n",
        "for index in np.ndindex(Z.shape):\n",
        "  print(index, Z[index])"
      ]
    },
    {
      "cell_type": "markdown",
      "metadata": {
        "id": "bZYYFjN60pR3"
      },
      "source": [
        "#### 56. Generate a generic 2D Gaussian-like array (★★☆) \n",
        "(**hint**: np.meshgrid, np.exp)"
      ]
    },
    {
      "cell_type": "code",
      "execution_count": 63,
      "metadata": {
        "id": "mcAOQeUs0pR3",
        "colab": {
          "base_uri": "https://localhost:8080/"
        },
        "outputId": "5080f232-d1fd-40a6-d4da-c96347ce3052"
      },
      "outputs": [
        {
          "output_type": "stream",
          "name": "stdout",
          "text": [
            "[[0.36787944 0.44822088 0.51979489 0.57375342 0.60279818 0.60279818\n",
            "  0.57375342 0.51979489 0.44822088 0.36787944]\n",
            " [0.44822088 0.54610814 0.63331324 0.69905581 0.73444367 0.73444367\n",
            "  0.69905581 0.63331324 0.54610814 0.44822088]\n",
            " [0.51979489 0.63331324 0.73444367 0.81068432 0.85172308 0.85172308\n",
            "  0.81068432 0.73444367 0.63331324 0.51979489]\n",
            " [0.57375342 0.69905581 0.81068432 0.89483932 0.9401382  0.9401382\n",
            "  0.89483932 0.81068432 0.69905581 0.57375342]\n",
            " [0.60279818 0.73444367 0.85172308 0.9401382  0.98773022 0.98773022\n",
            "  0.9401382  0.85172308 0.73444367 0.60279818]\n",
            " [0.60279818 0.73444367 0.85172308 0.9401382  0.98773022 0.98773022\n",
            "  0.9401382  0.85172308 0.73444367 0.60279818]\n",
            " [0.57375342 0.69905581 0.81068432 0.89483932 0.9401382  0.9401382\n",
            "  0.89483932 0.81068432 0.69905581 0.57375342]\n",
            " [0.51979489 0.63331324 0.73444367 0.81068432 0.85172308 0.85172308\n",
            "  0.81068432 0.73444367 0.63331324 0.51979489]\n",
            " [0.44822088 0.54610814 0.63331324 0.69905581 0.73444367 0.73444367\n",
            "  0.69905581 0.63331324 0.54610814 0.44822088]\n",
            " [0.36787944 0.44822088 0.51979489 0.57375342 0.60279818 0.60279818\n",
            "  0.57375342 0.51979489 0.44822088 0.36787944]]\n"
          ]
        }
      ],
      "source": [
        "X, Y = np.meshgrid(np.linspace(-1,1,10), np.linspace(-1,1,10))\n",
        "D = np.sqrt(X*X+Y*Y)\n",
        "sigma, mu = 1.0, 0.0\n",
        "G = np.exp(-( (D-mu)**2 / ( 2.0 * sigma**2 ) ) )\n",
        "print(G)"
      ]
    },
    {
      "cell_type": "markdown",
      "metadata": {
        "id": "A-wb6kpL0pR3"
      },
      "source": [
        "#### 57. How to randomly place p elements in a 2D array? (★★☆) \n",
        "(**hint**: np.put, np.random.choice)"
      ]
    },
    {
      "cell_type": "code",
      "execution_count": 64,
      "metadata": {
        "id": "RpJsyT8E0pR3",
        "colab": {
          "base_uri": "https://localhost:8080/"
        },
        "outputId": "b65fe145-02db-4b2e-80cc-1a08ac31d126"
      },
      "outputs": [
        {
          "output_type": "stream",
          "name": "stdout",
          "text": [
            "[[1. 0. 0. 0. 0. 0. 0. 0. 0. 0.]\n",
            " [1. 0. 0. 0. 0. 0. 0. 0. 0. 0.]\n",
            " [0. 0. 0. 0. 0. 0. 0. 0. 0. 0.]\n",
            " [0. 0. 0. 0. 0. 0. 0. 0. 0. 0.]\n",
            " [0. 0. 0. 0. 0. 0. 0. 0. 0. 0.]\n",
            " [0. 1. 0. 0. 0. 0. 0. 0. 0. 0.]\n",
            " [0. 0. 0. 0. 0. 0. 0. 0. 0. 0.]\n",
            " [0. 0. 0. 0. 0. 0. 0. 0. 0. 0.]\n",
            " [0. 0. 0. 0. 0. 0. 0. 0. 0. 0.]\n",
            " [0. 0. 0. 0. 0. 0. 0. 0. 0. 0.]]\n"
          ]
        }
      ],
      "source": [
        "n = 10\n",
        "p = 3\n",
        "Z = np.zeros((n,n))\n",
        "np.put(Z, np.random.choice(range(n*n), p, replace=False),1)\n",
        "print (Z)"
      ]
    },
    {
      "cell_type": "markdown",
      "metadata": {
        "id": "k55LZkOG0pR3"
      },
      "source": [
        "#### 58. Subtract the mean of each row of a matrix (★★☆) \n",
        "(**hint**: mean(axis=,keepdims=))"
      ]
    },
    {
      "cell_type": "code",
      "execution_count": 65,
      "metadata": {
        "id": "AWXXfQLe0pR4",
        "colab": {
          "base_uri": "https://localhost:8080/"
        },
        "outputId": "bbfa7ff7-90a3-4717-83d7-fdf09dce120e"
      },
      "outputs": [
        {
          "output_type": "stream",
          "name": "stdout",
          "text": [
            "[[ 0.34850694 -0.30340918  0.35018264 -0.00324944  0.31008126  0.01544648\n",
            "  -0.1237088  -0.502589   -0.14245244  0.05119155]\n",
            " [-0.31043502 -0.08138963  0.1171184  -0.13765428 -0.33906647  0.21185301\n",
            "  -0.11723467  0.15145252  0.13226595  0.3730902 ]\n",
            " [ 0.41976567 -0.41414397  0.09429856  0.52341695  0.44522672 -0.26489361\n",
            "  -0.19410072 -0.45516614  0.25126339 -0.40566686]\n",
            " [-0.3325279  -0.2853619   0.06633486  0.50487467  0.02472505 -0.0949026\n",
            "   0.02545289 -0.23701271 -0.00246712  0.33088477]\n",
            " [-0.02633945 -0.25986732  0.38680059  0.26303489  0.01237831 -0.24480463\n",
            "   0.61692724 -0.22369967 -0.27453906 -0.2498909 ]]\n"
          ]
        }
      ],
      "source": [
        "X = np.random.rand(5, 10)\n",
        "Y = X - X.mean(axis=1, keepdims=True)\n",
        "print(Y)"
      ]
    },
    {
      "cell_type": "markdown",
      "metadata": {
        "id": "W-xy9TyP0pR4"
      },
      "source": [
        "#### 59. How to sort an array by the nth column? (★★☆) \n",
        "(**hint**: argsort)"
      ]
    },
    {
      "cell_type": "code",
      "execution_count": 66,
      "metadata": {
        "id": "wbRf9bKA0pR4",
        "colab": {
          "base_uri": "https://localhost:8080/"
        },
        "outputId": "76a3f5e5-e048-46e2-a27a-633b7c05a784"
      },
      "outputs": [
        {
          "output_type": "stream",
          "name": "stdout",
          "text": [
            "[[2 5 8]\n",
            " [0 5 0]\n",
            " [4 8 5]]\n"
          ]
        }
      ],
      "source": [
        "nums = np.random.randint(0,10,(3,3))\n",
        "\n",
        "print(nums[nums[:,1].argsort()])"
      ]
    },
    {
      "cell_type": "markdown",
      "metadata": {
        "id": "ImQWIqAn0pR4"
      },
      "source": [
        "#### 60. How to tell if a given 2D array has null columns? (★★☆) \n",
        "(**hint**: any, ~)"
      ]
    },
    {
      "cell_type": "code",
      "execution_count": 67,
      "metadata": {
        "id": "TkF2VixE0pR5",
        "colab": {
          "base_uri": "https://localhost:8080/"
        },
        "outputId": "e64d3bf7-4510-4772-985e-95647dec0ab4"
      },
      "outputs": [
        {
          "output_type": "stream",
          "name": "stdout",
          "text": [
            "False\n"
          ]
        }
      ],
      "source": [
        "nums = np.random.randint(0,3,(4,10))\n",
        "\n",
        "print((~nums.any(axis=0)).any())"
      ]
    },
    {
      "cell_type": "markdown",
      "metadata": {
        "id": "Vm8UtTAw0pR5"
      },
      "source": [
        "#### 61. Find the nearest value from a given value in an array (★★☆) \n",
        "(**hint**: np.abs, argmin, flat)"
      ]
    },
    {
      "cell_type": "code",
      "execution_count": 68,
      "metadata": {
        "id": "DN0HTnQP0pR5",
        "colab": {
          "base_uri": "https://localhost:8080/"
        },
        "outputId": "e47147e5-a21c-4394-f8d1-ed006438a0f9"
      },
      "outputs": [
        {
          "output_type": "stream",
          "name": "stdout",
          "text": [
            "4.152769574296341\n"
          ]
        }
      ],
      "source": [
        "x = np.random.uniform(1, 12, 5)\n",
        "v = 4\n",
        "n = x.flat[np.abs(x - v).argmin()]\n",
        "print(n)"
      ]
    },
    {
      "cell_type": "markdown",
      "metadata": {
        "id": "f6dnpZjk0pR6"
      },
      "source": [
        "#### 62. Considering two arrays with shape (1,3) and (3,1), how to compute their sum using an iterator? (★★☆) \n",
        "(**hint**: np.nditer)"
      ]
    },
    {
      "cell_type": "code",
      "execution_count": 69,
      "metadata": {
        "id": "b6LSsArl0pR6",
        "colab": {
          "base_uri": "https://localhost:8080/"
        },
        "outputId": "723baddf-7ce0-4cb8-a5bd-a5d684212ef1"
      },
      "outputs": [
        {
          "output_type": "stream",
          "name": "stdout",
          "text": [
            "[[0 1 2]\n",
            " [1 2 3]\n",
            " [2 3 4]]\n"
          ]
        }
      ],
      "source": [
        "A = np.arange(3).reshape(3,1)\n",
        "\n",
        "B = np.arange(3).reshape(1,3)\n",
        "\n",
        "it = np.nditer([A,B,None])\n",
        "\n",
        "for x,y,z in it: z[...] = x + y\n",
        "\n",
        "print(it.operands[2])"
      ]
    },
    {
      "cell_type": "markdown",
      "metadata": {
        "id": "oQb8q2S70pR6"
      },
      "source": [
        "#### 63. Create an array class that has a name attribute (★★☆) \n",
        "(**hint**: class method)"
      ]
    },
    {
      "cell_type": "code",
      "execution_count": 70,
      "metadata": {
        "id": "ILvSVe8s0pR7",
        "colab": {
          "base_uri": "https://localhost:8080/"
        },
        "outputId": "e20250d7-008a-4879-cf23-aaf8286eef53"
      },
      "outputs": [
        {
          "output_type": "stream",
          "name": "stdout",
          "text": [
            "range_10\n"
          ]
        }
      ],
      "source": [
        "class NamedArray(np.ndarray):\n",
        "    def __new__(cls, array, name=\"no name\"):\n",
        "\n",
        "        obj = np.asarray(array).view(cls)\n",
        "\n",
        "        obj.name = name\n",
        "\n",
        "        return obj\n",
        "\n",
        "    def __array_finalize__(self, obj):\n",
        "        if obj is None:\n",
        "            return\n",
        "        self.info = getattr(obj, 'name', \"no name\")\n",
        "\n",
        "Z = NamedArray(np.arange(10), \"range_10\")\n",
        "\n",
        "print (Z.name)"
      ]
    },
    {
      "cell_type": "markdown",
      "metadata": {
        "id": "PmwZSi_F0pR7"
      },
      "source": [
        "#### 64. Consider a given vector, how to add 1 to each element indexed by a second vector (be careful with repeated indices)? (★★★) \n",
        "(**hint**: np.bincount | np.add.at)"
      ]
    },
    {
      "cell_type": "code",
      "execution_count": 80,
      "metadata": {
        "id": "jSdc4Eyi0pR7",
        "colab": {
          "base_uri": "https://localhost:8080/"
        },
        "outputId": "6bd7aa93-d227-4a97-ecd0-bf2307a83a7e"
      },
      "outputs": [
        {
          "output_type": "stream",
          "name": "stdout",
          "text": [
            "[2. 1. 5. 7. 3. 3. 2. 3. 3. 1.]\n"
          ]
        }
      ],
      "source": [
        "Z1 = np.ones(10)\n",
        "\n",
        "Z2= np.random.randint(0,len(Z1),20)\n",
        "\n",
        "Z1 += np.bincount(Z2, minlength=len(Z1))\n",
        "\n",
        "print(Z1)"
      ]
    },
    {
      "cell_type": "markdown",
      "metadata": {
        "id": "jMV1lv-w0pR7"
      },
      "source": [
        "#### 65. How to accumulate elements of a vector (X) to an array (F) based on an index list (I)? (★★★) \n",
        "(**hint**: np.bincount)"
      ]
    },
    {
      "cell_type": "code",
      "execution_count": 81,
      "metadata": {
        "id": "kvRSd4Ns0pR8",
        "colab": {
          "base_uri": "https://localhost:8080/"
        },
        "outputId": "c503f289-51a1-43ad-c15a-c7016492d26b"
      },
      "outputs": [
        {
          "output_type": "stream",
          "name": "stdout",
          "text": [
            "[0. 7. 0. 6. 5. 0. 0. 0. 0. 3.]\n"
          ]
        }
      ],
      "source": [
        "X = [1,2,3,4,5,6]\n",
        "\n",
        "I = [1,3,9,3,4,1]\n",
        "\n",
        "F = np.bincount(I,X)\n",
        "\n",
        "print(F)"
      ]
    },
    {
      "cell_type": "markdown",
      "metadata": {
        "id": "xi4GjN_I0pR8"
      },
      "source": [
        "#### 66. Considering a (w,h,3) image of (dtype=ubyte), compute the number of unique colors (★★★) \n",
        "(**hint**: np.unique)"
      ]
    },
    {
      "cell_type": "code",
      "execution_count": 82,
      "metadata": {
        "id": "OMh0XTrp0pR9",
        "colab": {
          "base_uri": "https://localhost:8080/"
        },
        "outputId": "74917441-0344-4c50-f102-30d62a6d4ec8"
      },
      "outputs": [
        {
          "output_type": "stream",
          "name": "stdout",
          "text": [
            "[0 1]\n"
          ]
        }
      ],
      "source": [
        "w,h = 16,16\n",
        "I = np.random.randint(0,2,(h,w,3)).astype(np.ubyte)\n",
        "F = I[...,0]*256*256 + I[...,1]*256 +I[...,2]\n",
        "n = len(np.unique(F))\n",
        "print(np.unique(I))"
      ]
    },
    {
      "cell_type": "markdown",
      "metadata": {
        "id": "Vdc-a7Qr0pR9"
      },
      "source": [
        "#### 67. Considering a four dimensions array, how to get sum over the last two axis at once? (★★★) \n",
        "(**hint**: sum(axis=(-2,-1)))"
      ]
    },
    {
      "cell_type": "code",
      "execution_count": 83,
      "metadata": {
        "id": "F2NWPtwM0pR9",
        "colab": {
          "base_uri": "https://localhost:8080/"
        },
        "outputId": "7923074f-63bd-4b05-c0b3-ff9f308f1982"
      },
      "outputs": [
        {
          "output_type": "stream",
          "name": "stdout",
          "text": [
            "[[70 56 53 50]\n",
            " [61 51 42 52]\n",
            " [49 60 54 45]]\n"
          ]
        }
      ],
      "source": [
        "A = np.random.randint(0,10,(3,4,3,4))\n",
        "sum = A.sum(axis=(-2,-1))\n",
        "print(sum)"
      ]
    },
    {
      "cell_type": "markdown",
      "metadata": {
        "id": "8j9hSO0p0pR-"
      },
      "source": [
        "#### 68. Considering a one-dimensional vector D, how to compute means of subsets of D using a vector S of same size describing subset  indices? (★★★) \n",
        "(**hint**: np.bincount)"
      ]
    },
    {
      "cell_type": "code",
      "execution_count": 84,
      "metadata": {
        "id": "baRI7zjY0pR-",
        "colab": {
          "base_uri": "https://localhost:8080/"
        },
        "outputId": "c9d5b7df-17e8-43d4-f385-1d40453f2e8e"
      },
      "outputs": [
        {
          "output_type": "stream",
          "name": "stdout",
          "text": [
            "[0.51078821 0.30508415 0.41820424 0.48232193 0.41945162 0.42195521\n",
            " 0.38680822 0.47026097 0.6721733  0.43949969]\n"
          ]
        }
      ],
      "source": [
        "D = np.random.uniform(0,1,100)\n",
        "S = np.random.randint(0,10,100)\n",
        "D_sums = np.bincount(S, weights=D)\n",
        "D_counts = np.bincount(S)\n",
        "D_means = D_sums / D_counts\n",
        "print(D_means)"
      ]
    },
    {
      "cell_type": "markdown",
      "metadata": {
        "id": "ZYhCiWXh0pR-"
      },
      "source": [
        "#### 69. How to get the diagonal of a dot product? (★★★) \n",
        "(**hint**: np.diag)"
      ]
    },
    {
      "cell_type": "code",
      "execution_count": 85,
      "metadata": {
        "id": "QAYOf6nr0pR_",
        "colab": {
          "base_uri": "https://localhost:8080/"
        },
        "outputId": "8a6d1684-a86a-423d-d083-3cafafdcdec9"
      },
      "outputs": [
        {
          "output_type": "execute_result",
          "data": {
            "text/plain": [
              "array([0.40459456, 1.62753219, 0.52102109, 1.61410595, 1.55851196])"
            ]
          },
          "metadata": {},
          "execution_count": 85
        }
      ],
      "source": [
        "A = np.random.uniform(0,1,(5,5))\n",
        "B = np.random.uniform(0,1,(5,5))\n",
        "\n",
        "np.diag(np.dot(A, B))"
      ]
    },
    {
      "cell_type": "markdown",
      "metadata": {
        "id": "y5dji8wa0pSA"
      },
      "source": [
        "#### 70. Consider the vector \\[1, 2, 3, 4, 5\\], how to build a new vector with 3 consecutive zeros interleaved between each value? (★★★) \n",
        "(**hint**: array\\[::4\\])"
      ]
    },
    {
      "cell_type": "code",
      "execution_count": 86,
      "metadata": {
        "id": "spBN2bLY0pSB",
        "colab": {
          "base_uri": "https://localhost:8080/"
        },
        "outputId": "c8b2aadd-c7de-4bf8-c124-c21cfc958cfc"
      },
      "outputs": [
        {
          "output_type": "stream",
          "name": "stdout",
          "text": [
            "[1. 0. 0. 0. 2. 0. 0. 0. 3. 0. 0. 0. 4. 0. 0. 0. 5.]\n"
          ]
        }
      ],
      "source": [
        "Z = np.array([1,2,3,4,5])\n",
        "nz = 3\n",
        "Z0 = np.zeros(len(Z) + (len(Z)-1)*(nz))\n",
        "Z0[::nz+1] = Z\n",
        "print(Z0)"
      ]
    },
    {
      "cell_type": "markdown",
      "metadata": {
        "id": "ckdMbg3g0pSB"
      },
      "source": [
        "#### 71. Consider an array of dimension (5,5,3), how to mulitply it by an array with dimensions (5,5)? (★★★) \n",
        "(**hint**: array\\[:, :, None\\])"
      ]
    },
    {
      "cell_type": "code",
      "execution_count": 87,
      "metadata": {
        "collapsed": true,
        "id": "QGxVVpKn0pSB",
        "colab": {
          "base_uri": "https://localhost:8080/"
        },
        "outputId": "2569f0c3-709f-4a9d-ac90-623f9465ec31"
      },
      "outputs": [
        {
          "output_type": "stream",
          "name": "stdout",
          "text": [
            "[[[2. 2. 2.]\n",
            "  [2. 2. 2.]\n",
            "  [2. 2. 2.]\n",
            "  [2. 2. 2.]\n",
            "  [2. 2. 2.]]\n",
            "\n",
            " [[2. 2. 2.]\n",
            "  [2. 2. 2.]\n",
            "  [2. 2. 2.]\n",
            "  [2. 2. 2.]\n",
            "  [2. 2. 2.]]\n",
            "\n",
            " [[2. 2. 2.]\n",
            "  [2. 2. 2.]\n",
            "  [2. 2. 2.]\n",
            "  [2. 2. 2.]\n",
            "  [2. 2. 2.]]\n",
            "\n",
            " [[2. 2. 2.]\n",
            "  [2. 2. 2.]\n",
            "  [2. 2. 2.]\n",
            "  [2. 2. 2.]\n",
            "  [2. 2. 2.]]\n",
            "\n",
            " [[2. 2. 2.]\n",
            "  [2. 2. 2.]\n",
            "  [2. 2. 2.]\n",
            "  [2. 2. 2.]\n",
            "  [2. 2. 2.]]]\n"
          ]
        }
      ],
      "source": [
        "A = np.ones((5,5,3))\n",
        "B = 2*np.ones((5,5))\n",
        "print(A * B[:,:,None])"
      ]
    },
    {
      "cell_type": "markdown",
      "metadata": {
        "id": "Y4qD-4Rh0pSC"
      },
      "source": [
        "#### 72. How to swap two rows of an array? (★★★) \n",
        "(**hint**: array\\[\\[\\]\\] = array\\[\\[\\]\\])"
      ]
    },
    {
      "cell_type": "code",
      "execution_count": 89,
      "metadata": {
        "id": "dAUxAtnC0pSC",
        "colab": {
          "base_uri": "https://localhost:8080/"
        },
        "outputId": "acc5be6e-f811-48f9-8bec-4137db38c7c0"
      },
      "outputs": [
        {
          "output_type": "stream",
          "name": "stdout",
          "text": [
            "[[ 5  6  7  8  9]\n",
            " [ 0  1  2  3  4]\n",
            " [10 11 12 13 14]\n",
            " [15 16 17 18 19]\n",
            " [20 21 22 23 24]]\n"
          ]
        }
      ],
      "source": [
        "A = np.arange(25).reshape(5,5)\n",
        "A[[0,1]] = A[[1,0]]\n",
        "print(A)"
      ]
    },
    {
      "cell_type": "markdown",
      "metadata": {
        "id": "XGNWgoBl0pSD"
      },
      "source": [
        "#### 73. Consider a set of 10 triplets describing 10 triangles (with shared vertices), find the set of unique line segments composing all the  triangles (★★★) \n",
        "(**hint**: repeat, np.roll, np.sort, view, np.unique)"
      ]
    },
    {
      "cell_type": "code",
      "execution_count": 90,
      "metadata": {
        "id": "3yz0fI660pSF",
        "colab": {
          "base_uri": "https://localhost:8080/"
        },
        "outputId": "56b15ecd-1a09-4df4-87bd-f2382cf9b6ce"
      },
      "outputs": [
        {
          "output_type": "stream",
          "name": "stdout",
          "text": [
            "[( 1,  6) ( 1, 14) ( 5, 40) ( 5, 55) ( 6, 14) ( 7, 43) ( 7, 68) ( 8, 20)\n",
            " ( 8, 24) ( 9, 13) ( 9, 55) (13, 55) (20, 24) (26, 41) (26, 90) (28, 35)\n",
            " (28, 41) (30, 65) (30, 81) (35, 41) (40, 55) (41, 90) (43, 68) (54, 71)\n",
            " (54, 81) (54, 98) (65, 81) (71, 98) (81, 98)]\n"
          ]
        }
      ],
      "source": [
        "faces = np.random.randint(0,100,(10,3))\n",
        "F = np.roll(faces.repeat(2,axis=1),-1,axis=1)\n",
        "F = F.reshape(len(F)*3,2)\n",
        "F = np.sort(F,axis=1)\n",
        "G = F.view( dtype=[('p0',F.dtype),('p1',F.dtype)] )\n",
        "G = np.unique(G)\n",
        "print(G)\n"
      ]
    },
    {
      "cell_type": "markdown",
      "metadata": {
        "id": "tARYr1JJ0pSF"
      },
      "source": [
        "#### 74. Given an array C that is a bincount, how to produce an array A such that np.bincount(A) == C? (★★★) \n",
        "(**hint**: np.repeat)"
      ]
    },
    {
      "cell_type": "code",
      "execution_count": 91,
      "metadata": {
        "id": "aGEbClPs0pSG",
        "colab": {
          "base_uri": "https://localhost:8080/"
        },
        "outputId": "fd28681e-2dcb-408a-d50b-ea89e8d6d84d"
      },
      "outputs": [
        {
          "output_type": "stream",
          "name": "stdout",
          "text": [
            "[1 1 2 3 4 4 6]\n"
          ]
        }
      ],
      "source": [
        "C = np.bincount([1,1,2,3,4,4,6])\n",
        "A = np.repeat(np.arange(len(C)), C)\n",
        "print(A)"
      ]
    },
    {
      "cell_type": "markdown",
      "metadata": {
        "id": "VpZtfcBI0pSG"
      },
      "source": [
        "#### 75. How to compute averages using a sliding window over an array? (★★★) \n",
        "(**hint**: np.cumsum)"
      ]
    },
    {
      "cell_type": "code",
      "execution_count": 93,
      "metadata": {
        "id": "0q9QraXj0pSH",
        "colab": {
          "base_uri": "https://localhost:8080/"
        },
        "outputId": "14a16766-7d4b-4aa9-c341-0ec7f2945479"
      },
      "outputs": [
        {
          "output_type": "stream",
          "name": "stdout",
          "text": [
            "[ 1.  2.  3.  4.  5.  6.  7.  8.  9. 10. 11. 12. 13. 14. 15. 16. 17. 18.]\n"
          ]
        }
      ],
      "source": [
        "def moving_average(a, n=3):\n",
        "    ret = np.cumsum(a, dtype=float)\n",
        "    ret[n:] = ret[n:] - ret[:-n]\n",
        "    return ret[n - 1:] / n\n",
        "Z = np.arange(20)\n",
        "print(moving_average(Z, n=3))"
      ]
    },
    {
      "cell_type": "markdown",
      "metadata": {
        "id": "zguUWq8D0pSH"
      },
      "source": [
        "#### 76. Consider a one-dimensional array Z, build a two-dimensional array whose first row is (Z\\[0\\],Z\\[1\\],Z\\[2\\]) and each subsequent row is  shifted by 1 (last row should be (Z\\[-3\\],Z\\[-2\\],Z\\[-1\\]) (★★★) \n",
        "(**hint**: from numpy.lib import stride_tricks)"
      ]
    },
    {
      "cell_type": "code",
      "execution_count": 95,
      "metadata": {
        "id": "uiQH5qyy0pSI",
        "colab": {
          "base_uri": "https://localhost:8080/"
        },
        "outputId": "7ede01f3-4fe9-4490-f9a4-a62fff0438cf"
      },
      "outputs": [
        {
          "output_type": "stream",
          "name": "stdout",
          "text": [
            "[[0 1 2]\n",
            " [1 2 3]\n",
            " [2 3 4]\n",
            " [3 4 5]\n",
            " [4 5 6]\n",
            " [5 6 7]\n",
            " [6 7 8]\n",
            " [7 8 9]]\n"
          ]
        }
      ],
      "source": [
        "from numpy.lib import stride_tricks\n",
        "\n",
        "def rolling(a, window):\n",
        "    shape = (a.size - window + 1, window)\n",
        "    strides = (a.itemsize, a.itemsize)\n",
        "    return stride_tricks.as_strided(a, shape=shape, strides=strides)\n",
        "Z = rolling(np.arange(10), 3)\n",
        "print(Z)"
      ]
    },
    {
      "cell_type": "markdown",
      "metadata": {
        "id": "fAY05uVu0pSI"
      },
      "source": [
        "#### 77. How to negate a boolean, or to change the sign of a float inplace? (★★★) \n",
        "(**hint**: np.logical_not, np.negative)"
      ]
    },
    {
      "cell_type": "code",
      "execution_count": 97,
      "metadata": {
        "id": "-_VbfQN10pSJ",
        "colab": {
          "base_uri": "https://localhost:8080/"
        },
        "outputId": "a9bcdb61-436e-4503-efd4-eef647c39b56"
      },
      "outputs": [
        {
          "output_type": "execute_result",
          "data": {
            "text/plain": [
              "array([-0.15586586,  0.98977396, -0.40624757,  0.29584698,  0.76969413,\n",
              "       -0.77582818, -0.41835319,  0.3457202 , -0.56934616,  0.80397595])"
            ]
          },
          "metadata": {},
          "execution_count": 97
        }
      ],
      "source": [
        "Z = np.random.randint(0,2,10)\n",
        "np.logical_not(Z, out=Z)\n",
        "\n",
        "Z = np.random.uniform(-1.0,1.0,10)\n",
        "np.negative(Z, out=Z)"
      ]
    },
    {
      "cell_type": "markdown",
      "metadata": {
        "id": "oh09aGvD0pSJ"
      },
      "source": [
        "#### 78. Consider 2 sets of points P0,P1 describing lines (2d) and a point p, how to compute distance from p to each line i  (P0\\[i\\],P1\\[i\\])? (★★★)"
      ]
    },
    {
      "cell_type": "code",
      "execution_count": 98,
      "metadata": {
        "id": "1Vt8I67p0pSJ",
        "colab": {
          "base_uri": "https://localhost:8080/"
        },
        "outputId": "b2764f94-6be3-42eb-d859-f8aec6acd7a6"
      },
      "outputs": [
        {
          "output_type": "stream",
          "name": "stdout",
          "text": [
            "[ 3.10830604 10.16940992  1.44140498  5.17708572  8.78229827  5.03815411\n",
            "  5.10206328  5.83835934  9.13292736  6.43707193]\n"
          ]
        }
      ],
      "source": [
        "def distance(P0, P1, p):\n",
        "    T = P1 - P0\n",
        "    L = (T**2).sum(axis=1)\n",
        "    U = -((P0[:,0]-p[...,0])*T[:,0] + (P0[:,1]-p[...,1])*T[:,1]) / L\n",
        "    U = U.reshape(len(U),1)\n",
        "    D = P0 + U*T - p\n",
        "    return np.sqrt((D**2).sum(axis=1))\n",
        "\n",
        "P0 = np.random.uniform(-10,10,(10,2))\n",
        "P1 = np.random.uniform(-10,10,(10,2))\n",
        "p  = np.random.uniform(-10,10,( 1,2))\n",
        "print(distance(P0, P1, p))"
      ]
    },
    {
      "cell_type": "markdown",
      "metadata": {
        "id": "102mleEg0pSK"
      },
      "source": [
        "#### 79. Consider 2 sets of points P0,P1 describing lines (2d) and a set of points P, how to compute distance from each point j (P\\[j\\]) to each line i (P0\\[i\\],P1\\[i\\])? (★★★)"
      ]
    },
    {
      "cell_type": "code",
      "execution_count": 99,
      "metadata": {
        "id": "51o9gbrM0pSK",
        "colab": {
          "base_uri": "https://localhost:8080/"
        },
        "outputId": "5049aedc-4c5a-49f0-9895-e87e38e38cb6"
      },
      "outputs": [
        {
          "output_type": "stream",
          "name": "stdout",
          "text": [
            "[[17.19369627  3.25084365 13.92344598  2.66951164  7.26492421  4.04550252\n",
            "   8.00565492  4.72733167 10.48760298  4.19941549]\n",
            " [13.54500278  5.21997233  4.95080727  5.58658776 10.915152    9.54296202\n",
            "  11.12008901  0.86101875 13.10578671  4.81138742]\n",
            " [ 4.12228244  7.53542073  1.66528226  6.77479543  0.12548737  2.09112552\n",
            "   0.78473189 16.83004546  0.46060706 12.4849483 ]\n",
            " [16.9890315   0.19399447 10.96324544  0.38113487  9.38524479  6.62670874\n",
            "   9.98050319  4.44175303 12.32370987  1.29528955]\n",
            " [ 3.56036629  5.78844855 12.93333482  6.08675971  4.46341261  5.51188932\n",
            "   4.19621908  8.80926298  2.09981676  2.29577325]\n",
            " [ 5.75010904  7.55344734 15.15992354  7.71538864  4.19165614  5.88947683\n",
            "   3.75127648  6.57723843  1.49961862  4.62010044]\n",
            " [ 6.70430587  7.71422767  0.86859481  7.64799533  7.82574337  8.06422415\n",
            "   7.62464468  6.03140566  9.25504315  9.26702079]\n",
            " [10.05334338 10.66607259  1.10410726 10.82119366 12.43450451 12.46191889\n",
            "  12.24563281  2.76809935 13.87071331 10.96280784]\n",
            " [ 9.82885693  0.83412906  8.19650068  0.95261474  4.97728035  3.68562586\n",
            "   5.21829326  2.73044643  7.257594    1.89800268]\n",
            " [ 7.58075977  1.0937968   7.387902    1.06876612  3.54645652  2.70662544\n",
            "   3.67906864  4.98063886  5.62566348  2.84194913]]\n"
          ]
        }
      ],
      "source": [
        "P0 = np.random.uniform(-10, 10, (10,2))\n",
        "P1 = np.random.uniform(-10,10,(10,2))\n",
        "p = np.random.uniform(-10, 10, (10,2))\n",
        "print(np.array([distance(P0,P1,p_i) for p_i in p]))"
      ]
    },
    {
      "cell_type": "markdown",
      "metadata": {
        "id": "ckJ5FQcC0pSK"
      },
      "source": [
        "#### 80. Consider an arbitrary array, write a function that extract a subpart with a fixed shape and centered on a given element (pad with a `fill` value when necessary) (★★★) \n",
        "(**hint**: minimum, maximum)"
      ]
    },
    {
      "cell_type": "code",
      "execution_count": 100,
      "metadata": {
        "id": "_9dGU8hX0pSK",
        "colab": {
          "base_uri": "https://localhost:8080/"
        },
        "outputId": "69c516e8-ed79-4b8e-d7c1-740c99549e3d"
      },
      "outputs": [
        {
          "output_type": "stream",
          "name": "stdout",
          "text": [
            "[[7 5 5 3 0 2 1 0 0 0]\n",
            " [5 1 9 3 1 5 7 8 3 2]\n",
            " [1 1 7 8 4 8 9 9 7 6]\n",
            " [0 9 6 5 3 7 7 2 4 4]\n",
            " [0 5 9 2 8 3 8 0 5 6]\n",
            " [1 6 4 6 2 0 9 2 4 1]\n",
            " [6 4 8 7 0 8 4 6 8 7]\n",
            " [3 3 9 0 0 7 3 7 5 0]\n",
            " [4 5 0 5 8 4 0 2 0 0]\n",
            " [2 7 7 9 1 3 1 2 6 7]]\n",
            "[[0 0 0 0 0]\n",
            " [0 7 5 5 3]\n",
            " [0 5 1 9 3]\n",
            " [0 1 1 7 8]\n",
            " [0 0 9 6 5]]\n"
          ]
        },
        {
          "output_type": "stream",
          "name": "stderr",
          "text": [
            "/usr/local/lib/python3.7/dist-packages/ipykernel_launcher.py:23: FutureWarning: Using a non-tuple sequence for multidimensional indexing is deprecated; use `arr[tuple(seq)]` instead of `arr[seq]`. In the future this will be interpreted as an array index, `arr[np.array(seq)]`, which will result either in an error or a different result.\n"
          ]
        }
      ],
      "source": [
        "Z = np.random.randint(0,10,(10,10))\n",
        "shape = (5,5)\n",
        "fill  = 0\n",
        "position = (1,1)\n",
        "\n",
        "R = np.ones(shape, dtype=Z.dtype)*fill\n",
        "P  = np.array(list(position)).astype(int)\n",
        "Rs = np.array(list(R.shape)).astype(int)\n",
        "Zs = np.array(list(Z.shape)).astype(int)\n",
        "\n",
        "R_start = np.zeros((len(shape),)).astype(int)\n",
        "R_stop  = np.array(list(shape)).astype(int)\n",
        "Z_start = (P-Rs//2)\n",
        "Z_stop  = (P+Rs//2)+Rs%2\n",
        "\n",
        "R_start = (R_start - np.minimum(Z_start,0)).tolist()\n",
        "Z_start = (np.maximum(Z_start,0)).tolist()\n",
        "R_stop = np.maximum(R_start, (R_stop - np.maximum(Z_stop-Zs,0))).tolist()\n",
        "Z_stop = (np.minimum(Z_stop,Zs)).tolist()\n",
        "\n",
        "r = [slice(start,stop) for start,stop in zip(R_start,R_stop)]\n",
        "z = [slice(start,stop) for start,stop in zip(Z_start,Z_stop)]\n",
        "R[r] = Z[z]\n",
        "print(Z)\n",
        "print(R)"
      ]
    },
    {
      "cell_type": "markdown",
      "metadata": {
        "id": "Ny44X8jl0pSK"
      },
      "source": [
        "#### 81. Consider an array Z = \\[1,2,3,4,5,6,7,8,9,10,11,12,13,14\\], how to generate an array R = \\[\\[1,2,3,4\\], \\[2,3,4,5\\], \\[3,4,5,6\\], ..., \\[11,12,13,14\\]\\]? (★★★) \n",
        "(**hint**: stride\\_tricks.as\\_strided)"
      ]
    },
    {
      "cell_type": "code",
      "execution_count": 101,
      "metadata": {
        "id": "ds2OyZ270pSL",
        "colab": {
          "base_uri": "https://localhost:8080/"
        },
        "outputId": "a02de5d2-1929-40a5-f650-531fa587cf74"
      },
      "outputs": [
        {
          "output_type": "stream",
          "name": "stdout",
          "text": [
            "[[ 1  2  3  4]\n",
            " [ 2  3  4  5]\n",
            " [ 3  4  5  6]\n",
            " [ 4  5  6  7]\n",
            " [ 5  6  7  8]\n",
            " [ 6  7  8  9]\n",
            " [ 7  8  9 10]\n",
            " [ 8  9 10 11]\n",
            " [ 9 10 11 12]\n",
            " [10 11 12 13]\n",
            " [11 12 13 14]]\n"
          ]
        }
      ],
      "source": [
        "Z = np.arange(1,15,dtype=np.uint32)\n",
        "R = stride_tricks.as_strided(Z,(11,4),(4,4))\n",
        "print(R)"
      ]
    },
    {
      "cell_type": "markdown",
      "metadata": {
        "id": "9EWnQXjl0pSL"
      },
      "source": [
        "#### 82. Compute a matrix rank (★★★) \n",
        "(**hint**: np.linalg.svd) (suggestion: np.linalg.svd)"
      ]
    },
    {
      "cell_type": "code",
      "execution_count": 102,
      "metadata": {
        "id": "yDAmgerZ0pSL",
        "colab": {
          "base_uri": "https://localhost:8080/"
        },
        "outputId": "71471edb-53ea-4d8b-e4f6-81d22f83de1a"
      },
      "outputs": [
        {
          "output_type": "stream",
          "name": "stdout",
          "text": [
            "10\n"
          ]
        }
      ],
      "source": [
        "Z = np.random.uniform(0,1,(10,10))\n",
        "U, S, V = np.linalg.svd(Z) \n",
        "rank = np.sum(S > 1e-10)\n",
        "print(rank)"
      ]
    },
    {
      "cell_type": "markdown",
      "metadata": {
        "id": "CIeqdCQj0pSL"
      },
      "source": [
        "#### 83. How to find the most frequent value in an array? \n",
        "(**hint**: np.bincount, argmax)"
      ]
    },
    {
      "cell_type": "code",
      "execution_count": 103,
      "metadata": {
        "id": "s8nqiNgw0pSL",
        "colab": {
          "base_uri": "https://localhost:8080/"
        },
        "outputId": "0f939b67-ea0b-4ec3-ad56-75dce8e73762"
      },
      "outputs": [
        {
          "output_type": "stream",
          "name": "stdout",
          "text": [
            "4\n"
          ]
        }
      ],
      "source": [
        "Z = np.random.randint(0,10,50)\n",
        "print(np.bincount(Z).argmax())"
      ]
    },
    {
      "cell_type": "markdown",
      "metadata": {
        "id": "xTYy5pMZ0pSL"
      },
      "source": [
        "#### 84. Extract all the contiguous 3x3 blocks from a random 10x10 matrix (★★★) \n",
        "(**hint**: stride\\_tricks.as\\_strided)"
      ]
    },
    {
      "cell_type": "code",
      "execution_count": 104,
      "metadata": {
        "id": "wSuh2AE20pSM",
        "colab": {
          "base_uri": "https://localhost:8080/"
        },
        "outputId": "ce4714f9-f2b0-4cba-fa0a-6b8e8255feb4"
      },
      "outputs": [
        {
          "output_type": "stream",
          "name": "stdout",
          "text": [
            "[[[[1 3 2]\n",
            "   [1 3 0]\n",
            "   [2 3 0]]\n",
            "\n",
            "  [[3 2 1]\n",
            "   [3 0 3]\n",
            "   [3 0 3]]\n",
            "\n",
            "  [[2 1 0]\n",
            "   [0 3 2]\n",
            "   [0 3 1]]\n",
            "\n",
            "  [[1 0 2]\n",
            "   [3 2 0]\n",
            "   [3 1 0]]\n",
            "\n",
            "  [[0 2 1]\n",
            "   [2 0 2]\n",
            "   [1 0 2]]\n",
            "\n",
            "  [[2 1 2]\n",
            "   [0 2 2]\n",
            "   [0 2 2]]\n",
            "\n",
            "  [[1 2 4]\n",
            "   [2 2 0]\n",
            "   [2 2 2]]\n",
            "\n",
            "  [[2 4 3]\n",
            "   [2 0 0]\n",
            "   [2 2 0]]]\n",
            "\n",
            "\n",
            " [[[1 3 0]\n",
            "   [2 3 0]\n",
            "   [2 0 2]]\n",
            "\n",
            "  [[3 0 3]\n",
            "   [3 0 3]\n",
            "   [0 2 1]]\n",
            "\n",
            "  [[0 3 2]\n",
            "   [0 3 1]\n",
            "   [2 1 4]]\n",
            "\n",
            "  [[3 2 0]\n",
            "   [3 1 0]\n",
            "   [1 4 4]]\n",
            "\n",
            "  [[2 0 2]\n",
            "   [1 0 2]\n",
            "   [4 4 1]]\n",
            "\n",
            "  [[0 2 2]\n",
            "   [0 2 2]\n",
            "   [4 1 2]]\n",
            "\n",
            "  [[2 2 0]\n",
            "   [2 2 2]\n",
            "   [1 2 3]]\n",
            "\n",
            "  [[2 0 0]\n",
            "   [2 2 0]\n",
            "   [2 3 1]]]\n",
            "\n",
            "\n",
            " [[[2 3 0]\n",
            "   [2 0 2]\n",
            "   [4 3 2]]\n",
            "\n",
            "  [[3 0 3]\n",
            "   [0 2 1]\n",
            "   [3 2 2]]\n",
            "\n",
            "  [[0 3 1]\n",
            "   [2 1 4]\n",
            "   [2 2 1]]\n",
            "\n",
            "  [[3 1 0]\n",
            "   [1 4 4]\n",
            "   [2 1 2]]\n",
            "\n",
            "  [[1 0 2]\n",
            "   [4 4 1]\n",
            "   [1 2 4]]\n",
            "\n",
            "  [[0 2 2]\n",
            "   [4 1 2]\n",
            "   [2 4 1]]\n",
            "\n",
            "  [[2 2 2]\n",
            "   [1 2 3]\n",
            "   [4 1 3]]\n",
            "\n",
            "  [[2 2 0]\n",
            "   [2 3 1]\n",
            "   [1 3 4]]]\n",
            "\n",
            "\n",
            " [[[2 0 2]\n",
            "   [4 3 2]\n",
            "   [2 3 0]]\n",
            "\n",
            "  [[0 2 1]\n",
            "   [3 2 2]\n",
            "   [3 0 2]]\n",
            "\n",
            "  [[2 1 4]\n",
            "   [2 2 1]\n",
            "   [0 2 1]]\n",
            "\n",
            "  [[1 4 4]\n",
            "   [2 1 2]\n",
            "   [2 1 1]]\n",
            "\n",
            "  [[4 4 1]\n",
            "   [1 2 4]\n",
            "   [1 1 1]]\n",
            "\n",
            "  [[4 1 2]\n",
            "   [2 4 1]\n",
            "   [1 1 2]]\n",
            "\n",
            "  [[1 2 3]\n",
            "   [4 1 3]\n",
            "   [1 2 2]]\n",
            "\n",
            "  [[2 3 1]\n",
            "   [1 3 4]\n",
            "   [2 2 2]]]\n",
            "\n",
            "\n",
            " [[[4 3 2]\n",
            "   [2 3 0]\n",
            "   [0 4 4]]\n",
            "\n",
            "  [[3 2 2]\n",
            "   [3 0 2]\n",
            "   [4 4 4]]\n",
            "\n",
            "  [[2 2 1]\n",
            "   [0 2 1]\n",
            "   [4 4 0]]\n",
            "\n",
            "  [[2 1 2]\n",
            "   [2 1 1]\n",
            "   [4 0 4]]\n",
            "\n",
            "  [[1 2 4]\n",
            "   [1 1 1]\n",
            "   [0 4 1]]\n",
            "\n",
            "  [[2 4 1]\n",
            "   [1 1 2]\n",
            "   [4 1 4]]\n",
            "\n",
            "  [[4 1 3]\n",
            "   [1 2 2]\n",
            "   [1 4 1]]\n",
            "\n",
            "  [[1 3 4]\n",
            "   [2 2 2]\n",
            "   [4 1 3]]]\n",
            "\n",
            "\n",
            " [[[2 3 0]\n",
            "   [0 4 4]\n",
            "   [3 3 0]]\n",
            "\n",
            "  [[3 0 2]\n",
            "   [4 4 4]\n",
            "   [3 0 2]]\n",
            "\n",
            "  [[0 2 1]\n",
            "   [4 4 0]\n",
            "   [0 2 0]]\n",
            "\n",
            "  [[2 1 1]\n",
            "   [4 0 4]\n",
            "   [2 0 2]]\n",
            "\n",
            "  [[1 1 1]\n",
            "   [0 4 1]\n",
            "   [0 2 4]]\n",
            "\n",
            "  [[1 1 2]\n",
            "   [4 1 4]\n",
            "   [2 4 3]]\n",
            "\n",
            "  [[1 2 2]\n",
            "   [1 4 1]\n",
            "   [4 3 0]]\n",
            "\n",
            "  [[2 2 2]\n",
            "   [4 1 3]\n",
            "   [3 0 2]]]\n",
            "\n",
            "\n",
            " [[[0 4 4]\n",
            "   [3 3 0]\n",
            "   [4 4 1]]\n",
            "\n",
            "  [[4 4 4]\n",
            "   [3 0 2]\n",
            "   [4 1 1]]\n",
            "\n",
            "  [[4 4 0]\n",
            "   [0 2 0]\n",
            "   [1 1 2]]\n",
            "\n",
            "  [[4 0 4]\n",
            "   [2 0 2]\n",
            "   [1 2 0]]\n",
            "\n",
            "  [[0 4 1]\n",
            "   [0 2 4]\n",
            "   [2 0 3]]\n",
            "\n",
            "  [[4 1 4]\n",
            "   [2 4 3]\n",
            "   [0 3 0]]\n",
            "\n",
            "  [[1 4 1]\n",
            "   [4 3 0]\n",
            "   [3 0 2]]\n",
            "\n",
            "  [[4 1 3]\n",
            "   [3 0 2]\n",
            "   [0 2 0]]]\n",
            "\n",
            "\n",
            " [[[3 3 0]\n",
            "   [4 4 1]\n",
            "   [3 2 1]]\n",
            "\n",
            "  [[3 0 2]\n",
            "   [4 1 1]\n",
            "   [2 1 1]]\n",
            "\n",
            "  [[0 2 0]\n",
            "   [1 1 2]\n",
            "   [1 1 3]]\n",
            "\n",
            "  [[2 0 2]\n",
            "   [1 2 0]\n",
            "   [1 3 4]]\n",
            "\n",
            "  [[0 2 4]\n",
            "   [2 0 3]\n",
            "   [3 4 1]]\n",
            "\n",
            "  [[2 4 3]\n",
            "   [0 3 0]\n",
            "   [4 1 0]]\n",
            "\n",
            "  [[4 3 0]\n",
            "   [3 0 2]\n",
            "   [1 0 4]]\n",
            "\n",
            "  [[3 0 2]\n",
            "   [0 2 0]\n",
            "   [0 4 4]]]]\n"
          ]
        }
      ],
      "source": [
        "Z = np.random.randint(0,5,(10,10))\n",
        "n = 3\n",
        "i = 1 + (Z.shape[0]-3)\n",
        "j = 1 + (Z.shape[1]-3)\n",
        "C = stride_tricks.as_strided(Z, shape=(i, j, n, n), strides=Z.strides + Z.strides)\n",
        "print(C)"
      ]
    },
    {
      "cell_type": "markdown",
      "metadata": {
        "id": "RG1h-C1c0pSM"
      },
      "source": [
        "#### 85. Create a 2D array subclass such that Z\\[i,j\\] == Z\\[j,i\\] (★★★) \n",
        "(**hint**: class method)"
      ]
    },
    {
      "cell_type": "code",
      "execution_count": 105,
      "metadata": {
        "id": "59qqRyU-0pSP",
        "colab": {
          "base_uri": "https://localhost:8080/"
        },
        "outputId": "bd27fde5-f0f9-4ed2-9ad2-3dbcf0833395"
      },
      "outputs": [
        {
          "output_type": "stream",
          "name": "stdout",
          "text": [
            "[[ 1  1  7  8 12]\n",
            " [ 1  0  6  6 14]\n",
            " [ 7  6  7 42  9]\n",
            " [ 8  6 42  8 18]\n",
            " [12 14  9 18  2]]\n"
          ]
        }
      ],
      "source": [
        "class Symetric(np.ndarray):\n",
        "    def __setitem__(self, index, value):\n",
        "        i,j = index\n",
        "        super(Symetric, self).__setitem__((i,j), value)\n",
        "        super(Symetric, self).__setitem__((j,i), value)\n",
        "\n",
        "def symetric(Z):\n",
        "    return np.asarray(Z + Z.T - np.diag(Z.diagonal())).view(Symetric)\n",
        "\n",
        "S = symetric(np.random.randint(0,10,(5,5)))\n",
        "S[2,3] = 42\n",
        "print(S)"
      ]
    },
    {
      "cell_type": "markdown",
      "metadata": {
        "id": "xuSZVHri0pSQ"
      },
      "source": [
        "#### 86. Consider a set of p matrices wich shape (n,n) and a set of p vectors with shape (n,1). How to compute the sum of of the p matrix products at once? (result has shape (n,1)) (★★★) \n",
        "(**hint**: np.tensordot)"
      ]
    },
    {
      "cell_type": "code",
      "execution_count": 106,
      "metadata": {
        "id": "c7ijuSHV0pSQ",
        "colab": {
          "base_uri": "https://localhost:8080/"
        },
        "outputId": "8fac2ae0-b0c5-4d73-f846-2acef33d55f0"
      },
      "outputs": [
        {
          "output_type": "stream",
          "name": "stdout",
          "text": [
            "[[200.]\n",
            " [200.]\n",
            " [200.]\n",
            " [200.]\n",
            " [200.]\n",
            " [200.]\n",
            " [200.]\n",
            " [200.]\n",
            " [200.]\n",
            " [200.]\n",
            " [200.]\n",
            " [200.]\n",
            " [200.]\n",
            " [200.]\n",
            " [200.]\n",
            " [200.]\n",
            " [200.]\n",
            " [200.]\n",
            " [200.]\n",
            " [200.]]\n"
          ]
        }
      ],
      "source": [
        "p, n = 10, 20\n",
        "M = np.ones((p,n,n))\n",
        "V = np.ones((p,n,1))\n",
        "S = np.tensordot(M, V, axes=[[0, 2], [0, 1]])\n",
        "print(S)"
      ]
    },
    {
      "cell_type": "markdown",
      "metadata": {
        "id": "eJTvfSP60pSQ"
      },
      "source": [
        "#### 87. Consider a 16x16 array, how to get the block-sum (block size is 4x4)? (★★★) \n",
        "(**hint**: np.add.reduceat)"
      ]
    },
    {
      "cell_type": "code",
      "execution_count": 107,
      "metadata": {
        "id": "ZXEUv1Hz0pSQ",
        "colab": {
          "base_uri": "https://localhost:8080/"
        },
        "outputId": "7b887cbf-beac-4f5c-b7cc-2a523d109bf1"
      },
      "outputs": [
        {
          "output_type": "stream",
          "name": "stdout",
          "text": [
            "[[16. 16. 16. 16.]\n",
            " [16. 16. 16. 16.]\n",
            " [16. 16. 16. 16.]\n",
            " [16. 16. 16. 16.]]\n"
          ]
        }
      ],
      "source": [
        "Z = np.ones((16,16))\n",
        "k = 4\n",
        "S = np.add.reduceat(np.add.reduceat(Z, np.arange(0, Z.shape[0], k), axis=0),\n",
        "                                       np.arange(0, Z.shape[1], k), axis=1)\n",
        "print(S)"
      ]
    },
    {
      "cell_type": "markdown",
      "metadata": {
        "id": "LFG87DXw0pSQ"
      },
      "source": [
        "#### 88. How to implement the Game of Life using numpy arrays? (★★★)"
      ]
    },
    {
      "cell_type": "code",
      "execution_count": 109,
      "metadata": {
        "id": "ZlWPjNfW0pSQ",
        "colab": {
          "base_uri": "https://localhost:8080/"
        },
        "outputId": "afa06ff9-855b-4722-9d4b-6226a9a49409"
      },
      "outputs": [
        {
          "output_type": "stream",
          "name": "stdout",
          "text": [
            "[[0 0 0 0 0 0 0 0 0 0 0 0 0 0 0 0 0 0 0 0 0 0 0 0 0 0 0 0 0 0 0 0 0 0 0 0\n",
            "  0 0 0 0 0 0 0 0 0 0 0 0 0 0]\n",
            " [0 0 0 0 0 0 0 0 0 0 0 0 0 0 0 0 0 0 0 0 0 0 0 0 0 0 0 0 0 0 0 0 0 0 0 0\n",
            "  0 0 0 0 0 0 0 0 0 0 0 0 0 0]\n",
            " [0 0 0 0 0 0 0 0 0 0 0 0 0 0 0 0 0 0 0 0 0 0 0 0 0 0 0 0 0 0 0 0 0 0 0 0\n",
            "  0 0 0 0 0 0 0 0 0 0 0 0 0 0]\n",
            " [0 0 0 0 0 0 0 0 0 0 0 0 1 0 0 0 0 0 0 1 1 0 0 0 0 0 0 0 0 0 0 0 0 0 0 0\n",
            "  0 0 0 0 0 0 0 0 0 0 0 0 0 0]\n",
            " [0 0 0 0 0 0 0 0 0 0 0 0 1 0 0 0 0 0 1 0 0 1 0 0 0 0 0 0 0 0 0 0 0 0 0 1\n",
            "  1 1 0 0 0 0 0 0 1 1 0 0 0 0]\n",
            " [0 0 0 0 0 0 0 0 0 0 0 0 1 0 0 0 0 0 1 0 1 0 0 0 0 0 0 0 0 0 0 0 0 0 0 1\n",
            "  1 0 1 0 0 0 0 1 0 1 0 0 0 0]\n",
            " [0 0 0 0 0 0 0 0 0 0 0 0 0 0 0 0 0 0 0 1 0 0 0 0 0 0 0 0 0 0 0 0 0 0 1 0\n",
            "  0 0 1 0 0 0 0 0 1 0 0 0 0 0]\n",
            " [0 0 0 0 0 0 0 0 0 0 0 0 0 0 0 0 0 0 0 0 0 0 0 0 0 0 0 0 0 0 0 0 0 0 0 1\n",
            "  1 1 0 0 0 0 0 0 0 0 0 0 0 0]\n",
            " [0 0 0 0 0 0 0 0 0 0 0 0 0 0 0 0 0 0 0 0 0 0 0 0 0 0 0 0 0 0 0 0 0 1 1 0\n",
            "  1 1 0 0 0 0 0 0 0 0 0 0 0 0]\n",
            " [0 0 0 0 0 0 0 0 0 0 0 0 0 0 0 0 0 0 0 0 0 0 0 0 0 0 0 0 0 0 0 0 1 0 1 1\n",
            "  0 0 0 0 0 0 0 0 0 0 0 0 0 0]\n",
            " [0 0 0 0 0 0 0 0 0 0 0 0 0 0 0 0 0 0 0 0 0 0 0 0 0 0 0 0 0 0 0 0 0 0 0 1\n",
            "  0 0 0 1 1 0 0 0 0 0 0 0 0 0]\n",
            " [0 0 0 0 0 0 0 0 0 0 0 0 0 0 0 0 0 0 0 0 0 0 0 0 0 0 0 0 1 1 1 0 1 1 0 1\n",
            "  0 0 0 1 1 0 0 0 0 0 0 0 0 0]\n",
            " [0 0 0 0 0 0 0 0 0 0 0 0 0 1 1 0 0 0 0 0 0 0 0 0 0 0 0 0 1 0 1 0 0 0 1 0\n",
            "  0 0 0 0 0 0 0 0 0 0 0 0 0 0]\n",
            " [0 0 0 0 0 0 0 0 0 0 0 0 1 0 0 1 0 0 0 0 0 0 0 0 0 0 1 0 0 0 0 1 0 0 0 0\n",
            "  0 0 0 0 0 0 0 0 0 0 0 0 0 0]\n",
            " [0 0 0 0 0 0 0 0 0 0 0 0 1 1 0 1 1 0 0 0 0 0 0 0 0 0 0 0 0 0 0 1 0 0 0 0\n",
            "  0 0 0 0 0 0 0 0 0 0 0 0 0 0]\n",
            " [0 0 0 0 0 0 1 1 1 0 0 0 0 0 0 1 0 1 0 0 0 0 0 0 0 0 0 0 0 0 0 0 1 1 1 0\n",
            "  0 0 0 0 0 0 0 0 0 0 0 0 0 0]\n",
            " [0 0 0 0 0 0 0 0 0 0 0 0 0 0 0 0 0 1 1 0 0 0 0 0 1 0 1 0 0 0 1 1 1 1 1 0\n",
            "  0 0 0 0 0 0 0 0 0 0 0 0 0 0]\n",
            " [0 0 0 0 0 0 0 0 0 0 0 0 0 0 1 0 0 0 1 0 0 0 0 1 1 0 0 1 1 1 0 0 0 1 1 1\n",
            "  1 1 0 0 0 0 0 0 0 0 0 0 0 0]\n",
            " [0 0 0 0 0 0 0 0 0 0 0 0 0 0 1 0 0 1 0 0 0 0 0 1 1 0 0 0 0 0 0 0 0 0 0 1\n",
            "  0 0 1 0 0 0 0 0 0 0 0 0 0 0]\n",
            " [0 0 0 0 0 0 0 0 0 0 0 0 0 0 0 1 1 1 0 0 0 0 0 0 0 0 0 0 0 0 0 0 0 0 0 1\n",
            "  0 0 1 0 0 0 0 0 0 0 0 0 0 0]\n",
            " [0 0 0 0 0 0 0 0 0 0 0 0 0 0 0 0 0 0 0 0 0 0 0 0 0 0 1 1 1 0 0 0 0 0 0 0\n",
            "  1 1 0 0 0 0 0 0 0 0 0 0 0 0]\n",
            " [0 0 0 0 0 0 0 0 0 0 0 0 0 0 0 0 0 0 0 0 0 0 0 0 0 0 1 1 1 0 1 1 1 0 0 0\n",
            "  0 0 0 0 0 0 0 0 0 0 0 0 0 0]\n",
            " [0 0 0 0 0 0 0 0 0 0 0 0 0 0 0 0 0 0 0 0 0 0 0 0 0 0 0 1 0 1 1 1 1 0 0 0\n",
            "  0 0 0 0 0 0 0 0 0 0 0 0 0 0]\n",
            " [0 0 0 0 0 0 0 0 0 0 0 0 0 0 0 0 0 0 0 0 0 0 0 0 0 0 0 0 0 0 0 0 0 0 0 0\n",
            "  0 0 0 0 0 0 0 0 0 0 0 0 0 0]\n",
            " [0 0 0 0 0 1 1 1 0 0 0 0 0 0 0 0 0 0 0 0 0 0 0 0 0 0 0 0 0 0 0 0 0 0 0 0\n",
            "  0 0 0 0 0 0 0 0 0 0 0 0 0 0]\n",
            " [0 0 0 0 0 0 0 0 0 0 0 0 0 0 0 0 0 0 0 0 0 0 0 0 0 0 0 0 0 0 0 0 0 0 0 0\n",
            "  0 0 0 0 0 0 0 0 0 0 0 0 0 0]\n",
            " [0 0 0 0 0 0 0 0 0 0 0 0 0 0 0 0 0 0 0 0 0 0 0 0 0 0 0 0 0 0 0 0 0 0 0 0\n",
            "  0 0 0 0 0 0 0 0 0 0 0 0 0 0]\n",
            " [0 1 1 0 0 0 0 0 0 0 0 0 0 0 0 0 0 0 0 0 0 0 0 0 0 0 0 0 0 0 0 0 0 0 0 0\n",
            "  0 0 0 0 0 0 0 0 0 0 0 0 0 0]\n",
            " [0 1 1 0 0 0 0 0 0 0 0 0 0 0 0 0 0 0 0 0 0 0 0 0 0 0 0 0 0 0 0 0 0 0 0 0\n",
            "  0 0 0 0 0 0 0 0 0 0 0 0 0 0]\n",
            " [0 0 0 0 0 0 0 0 0 0 0 0 0 0 0 0 0 0 0 0 0 0 0 0 0 0 0 0 0 0 0 0 0 0 0 0\n",
            "  0 0 0 0 0 0 0 0 0 0 0 0 0 0]\n",
            " [0 0 0 0 0 0 0 0 0 0 0 0 0 0 0 0 0 0 0 0 0 0 0 0 0 0 0 0 0 0 0 0 0 0 0 0\n",
            "  0 0 0 0 0 0 0 0 0 0 0 0 0 0]\n",
            " [0 0 0 0 0 0 0 0 0 0 0 0 0 0 0 0 1 0 0 0 0 0 0 0 0 0 0 0 0 0 0 0 0 0 0 0\n",
            "  0 0 0 0 0 0 0 0 0 0 0 0 0 0]\n",
            " [0 0 0 0 0 0 0 0 0 0 0 0 0 0 0 1 0 1 0 0 0 0 0 0 0 0 0 0 0 0 0 0 0 0 0 0\n",
            "  0 0 0 0 0 0 0 0 0 0 1 1 1 0]\n",
            " [0 0 0 0 0 0 0 0 0 0 0 0 0 0 0 0 1 1 0 0 0 0 1 1 0 0 0 0 0 0 0 0 0 0 0 0\n",
            "  0 0 0 0 0 0 0 0 0 0 0 0 0 0]\n",
            " [0 0 0 0 0 0 0 0 0 0 0 0 0 0 0 0 0 0 0 0 0 0 1 1 0 0 0 0 0 0 0 0 0 0 0 0\n",
            "  0 0 0 0 0 0 0 0 0 0 0 0 0 0]\n",
            " [0 0 0 0 0 0 0 0 0 0 0 0 0 0 0 0 0 0 0 0 0 0 0 0 0 0 0 0 0 0 0 0 0 0 0 0\n",
            "  1 0 0 0 0 0 0 0 0 0 0 0 0 0]\n",
            " [0 0 0 0 0 0 0 0 0 0 0 0 0 0 0 0 0 0 0 0 0 0 0 0 0 0 0 0 0 0 0 0 0 0 0 0\n",
            "  1 1 0 1 1 0 0 0 0 0 0 0 0 0]\n",
            " [0 0 0 0 0 0 0 0 0 0 0 0 0 0 0 0 0 0 0 0 0 0 0 0 0 0 0 0 0 0 0 0 0 0 0 1\n",
            "  0 0 0 0 1 0 0 0 0 0 0 0 0 0]\n",
            " [0 0 0 0 0 0 0 0 0 0 0 0 0 0 0 0 0 0 0 0 0 0 0 0 0 0 0 0 0 0 0 0 0 0 0 0\n",
            "  1 1 1 0 0 0 0 0 0 0 0 0 0 0]\n",
            " [0 0 1 0 0 0 0 0 0 0 0 0 0 0 0 0 0 0 0 0 0 0 0 0 0 0 0 0 0 0 0 0 0 0 0 0\n",
            "  1 0 0 1 1 1 0 0 0 0 0 0 0 0]\n",
            " [0 1 0 1 0 0 0 0 0 0 0 0 0 0 0 0 0 0 0 0 0 0 0 0 0 0 0 0 0 0 0 0 0 0 0 0\n",
            "  0 0 0 0 0 0 0 0 0 0 0 0 0 0]\n",
            " [0 1 0 1 0 0 0 0 0 0 0 0 0 0 0 0 0 1 0 0 0 0 0 0 0 0 0 0 0 0 0 0 0 0 0 0\n",
            "  0 0 0 1 1 0 0 0 0 0 0 0 0 0]\n",
            " [0 0 1 0 0 0 0 0 0 0 0 0 0 0 0 0 1 0 1 0 0 0 0 0 0 0 0 0 0 0 0 0 1 1 0 0\n",
            "  0 0 0 1 0 0 1 1 1 0 0 0 0 0]\n",
            " [0 0 0 0 0 0 0 0 0 0 0 0 0 0 0 0 1 0 0 1 0 0 0 0 0 0 0 0 0 0 0 1 0 0 1 0\n",
            "  0 0 0 0 0 0 0 0 0 0 0 0 0 0]\n",
            " [0 0 0 0 0 0 1 1 0 0 0 0 0 0 0 0 0 1 1 0 0 0 0 0 0 0 0 0 0 0 0 0 1 0 1 0\n",
            "  0 0 0 0 1 0 0 0 0 0 0 0 0 0]\n",
            " [0 0 0 0 0 0 1 1 0 0 0 0 0 0 0 0 0 0 0 0 0 0 0 0 0 0 0 0 0 0 0 0 0 1 0 0\n",
            "  0 0 0 0 1 0 0 0 0 0 0 0 0 0]\n",
            " [0 0 0 0 0 0 0 0 0 0 1 1 0 0 0 0 0 0 0 0 0 0 0 0 0 0 0 0 0 0 0 0 0 0 0 0\n",
            "  0 0 0 0 1 0 0 0 0 0 1 1 0 0]\n",
            " [0 0 0 0 0 0 0 0 0 0 1 1 0 0 0 1 1 0 0 0 0 0 0 0 0 0 0 0 0 0 0 0 0 0 0 0\n",
            "  0 0 0 0 0 0 0 0 0 1 0 1 0 0]\n",
            " [0 0 0 0 0 0 0 0 0 0 0 0 0 0 0 1 1 0 0 0 0 0 0 0 0 0 0 0 0 0 0 0 0 0 0 0\n",
            "  0 0 0 0 0 0 0 0 0 0 1 0 0 0]\n",
            " [0 0 0 0 0 0 0 0 0 0 0 0 0 0 0 0 0 0 0 0 0 0 0 0 0 0 0 0 0 0 0 0 0 0 0 0\n",
            "  0 0 0 0 0 0 0 0 0 0 0 0 0 0]]\n"
          ]
        }
      ],
      "source": [
        "\n",
        "def iterate(Z):\n",
        "    N = (Z[0:-2,0:-2] + Z[0:-2,1:-1] + Z[0:-2,2:] +\n",
        "         Z[1:-1,0:-2]                + Z[1:-1,2:] +\n",
        "         Z[2:  ,0:-2] + Z[2:  ,1:-1] + Z[2:  ,2:])\n",
        "\n",
        "    \n",
        "    birth = (N==3) & (Z[1:-1,1:-1]==0)\n",
        "    survive = ((N==2) | (N==3)) & (Z[1:-1,1:-1]==1)\n",
        "    Z[...] = 0\n",
        "    Z[1:-1,1:-1][birth | survive] = 1\n",
        "    return Z\n",
        "\n",
        "Z = np.random.randint(0,2,(50,50))\n",
        "for i in range(100): Z = iterate(Z)\n",
        "print(Z)"
      ]
    },
    {
      "cell_type": "markdown",
      "metadata": {
        "id": "OO9nYQV70pSR"
      },
      "source": [
        "#### 89. How to get the n largest values of an array (★★★) \n",
        "(**hint**: np.argsort | np.argpartition)"
      ]
    },
    {
      "cell_type": "code",
      "execution_count": 112,
      "metadata": {
        "id": "gmSyuAp00pSR",
        "colab": {
          "base_uri": "https://localhost:8080/"
        },
        "outputId": "461975a1-2747-42c7-ca1e-b186a7189d49"
      },
      "outputs": [
        {
          "output_type": "stream",
          "name": "stdout",
          "text": [
            "[9995 9996 9997 9998 9999]\n",
            "[9999 9998 9995 9997 9996]\n"
          ]
        }
      ],
      "source": [
        "Z = np.arange(10000)\n",
        "np.random.shuffle(Z)\n",
        "n = 5\n",
        "\n",
        "print (Z[np.argsort(Z)[-n:]])\n",
        "\n",
        "print (Z[np.argpartition(-Z,n)[:n]])"
      ]
    },
    {
      "cell_type": "markdown",
      "metadata": {
        "id": "68dQOe-H0pSR"
      },
      "source": [
        "#### 90. Given an arbitrary number of vectors, build the cartesian product (every combinations of every item) (★★★) \n",
        "(**hint**: np.indices)"
      ]
    },
    {
      "cell_type": "code",
      "execution_count": 113,
      "metadata": {
        "id": "iwzHeV-E0pSR",
        "scrolled": true,
        "colab": {
          "base_uri": "https://localhost:8080/"
        },
        "outputId": "292c9503-33fd-4cbf-9ecd-89810765b644"
      },
      "outputs": [
        {
          "output_type": "stream",
          "name": "stdout",
          "text": [
            "[[1 4 6]\n",
            " [1 4 7]\n",
            " [1 5 6]\n",
            " [1 5 7]\n",
            " [2 4 6]\n",
            " [2 4 7]\n",
            " [2 5 6]\n",
            " [2 5 7]\n",
            " [3 4 6]\n",
            " [3 4 7]\n",
            " [3 5 6]\n",
            " [3 5 7]]\n"
          ]
        }
      ],
      "source": [
        "def cartesian(arrays):\n",
        "    arrays = [np.asarray(a) for a in arrays]\n",
        "    shape = (len(x) for x in arrays)\n",
        "\n",
        "    ix = np.indices(shape, dtype=int)\n",
        "    ix = ix.reshape(len(arrays), -1).T\n",
        "\n",
        "    for n, arr in enumerate(arrays):\n",
        "        ix[:, n] = arrays[n][ix[:, n]]\n",
        "\n",
        "    return ix\n",
        "\n",
        "print (cartesian(([1, 2, 3], [4, 5], [6, 7])))"
      ]
    },
    {
      "cell_type": "markdown",
      "metadata": {
        "id": "mfDcwTvh0pSR"
      },
      "source": [
        "#### 91. How to create a record array from a regular array? (★★★) \n",
        "(**hint**: np.core.records.fromarrays)"
      ]
    },
    {
      "cell_type": "code",
      "execution_count": 114,
      "metadata": {
        "id": "XNyiC32F0pSR",
        "colab": {
          "base_uri": "https://localhost:8080/"
        },
        "outputId": "7b4e720b-34c4-4dfb-9f27-2a1232bcff10"
      },
      "outputs": [
        {
          "output_type": "stream",
          "name": "stdout",
          "text": [
            "[(b'Hello', 2.5, 3) (b'World', 3.6, 2)]\n"
          ]
        }
      ],
      "source": [
        "Z = np.array([(\"Hello\", 2.5, 3),\n",
        "              (\"World\", 3.6, 2)])\n",
        "R = np.core.records.fromarrays(Z.T, \n",
        "                               names='col1, col2, col3',\n",
        "                               formats = 'S8, f8, i8')\n",
        "print(R)"
      ]
    },
    {
      "cell_type": "markdown",
      "metadata": {
        "id": "usFZsbRG0pSR"
      },
      "source": [
        "#### 92. Consider a large vector Z, compute Z to the power of 3 using 3 different methods (★★★) \n",
        "(**hint**: np.power, \\*, np.einsum)"
      ]
    },
    {
      "cell_type": "code",
      "execution_count": 128,
      "metadata": {
        "id": "6F5nA7Ir0pSS",
        "colab": {
          "base_uri": "https://localhost:8080/"
        },
        "outputId": "abd28992-6f33-46bf-c1c1-a7504837e7d2"
      },
      "outputs": [
        {
          "output_type": "stream",
          "name": "stdout",
          "text": [
            "1.27 µs ± 8.53 ns per loop (mean ± std. dev. of 7 runs, 1000000 loops each)\n",
            "128 ns ± 1.12 ns per loop (mean ± std. dev. of 7 runs, 10000000 loops each)\n",
            "74.6 ns ± 21.3 ns per loop (mean ± std. dev. of 7 runs, 10000000 loops each)\n"
          ]
        }
      ],
      "source": [
        "x = np.random.randint(5e7)\n",
        "np.einsum\n",
        "%timeit np.power(x,3)\n",
        "%timeit x*x*x\n",
        "%timeit ('iii',x)"
      ]
    },
    {
      "cell_type": "markdown",
      "metadata": {
        "id": "Vl_Kh6tG0pSS"
      },
      "source": [
        "#### 93. Consider two arrays A and B of shape (8,3) and (2,2). How to find rows of A that contain elements of each row of B regardless of the order of the elements in B? (★★★) \n",
        "(**hint**: np.where)"
      ]
    },
    {
      "cell_type": "code",
      "execution_count": 129,
      "metadata": {
        "id": "n-u093W40pSS",
        "colab": {
          "base_uri": "https://localhost:8080/"
        },
        "outputId": "98fd12dc-b00c-44ff-e694-3d701db38235"
      },
      "outputs": [
        {
          "output_type": "stream",
          "name": "stdout",
          "text": [
            "[0 3 5 6 7]\n"
          ]
        }
      ],
      "source": [
        "A = np.random.randint(0,5,(8,3))\n",
        "B = np.random.randint(0,5,(2,2))\n",
        "\n",
        "C = (A[..., np.newaxis, np.newaxis] == B)\n",
        "rows = np.where(C.any((3,1)).all(1))[0]\n",
        "print(rows)"
      ]
    },
    {
      "cell_type": "markdown",
      "metadata": {
        "id": "k3AT2VdI0pSS"
      },
      "source": [
        "#### 94. Considering a 10x3 matrix, extract rows with unequal values (e.g. \\[2,2,3\\]) (★★★)"
      ]
    },
    {
      "cell_type": "code",
      "execution_count": 130,
      "metadata": {
        "id": "kldmlfVj0pSS",
        "colab": {
          "base_uri": "https://localhost:8080/"
        },
        "outputId": "1a6802c2-38d7-4861-9182-0995b0e172d6"
      },
      "outputs": [
        {
          "output_type": "stream",
          "name": "stdout",
          "text": [
            "[[0 0 4]\n",
            " [1 1 4]\n",
            " [4 2 2]\n",
            " [0 2 2]\n",
            " [3 4 2]\n",
            " [2 4 2]\n",
            " [2 4 1]\n",
            " [0 3 0]\n",
            " [1 0 4]\n",
            " [0 2 1]]\n",
            "[[0 0 4]\n",
            " [1 1 4]\n",
            " [4 2 2]\n",
            " [0 2 2]\n",
            " [3 4 2]\n",
            " [2 4 2]\n",
            " [2 4 1]\n",
            " [0 3 0]\n",
            " [1 0 4]\n",
            " [0 2 1]]\n",
            "[[0 0 4]\n",
            " [1 1 4]\n",
            " [4 2 2]\n",
            " [0 2 2]\n",
            " [3 4 2]\n",
            " [2 4 2]\n",
            " [2 4 1]\n",
            " [0 3 0]\n",
            " [1 0 4]\n",
            " [0 2 1]]\n"
          ]
        }
      ],
      "source": [
        "Z = np.random.randint(0,5,(10,3))\n",
        "print(Z)\n",
        "E = np.all(Z[:,1:] == Z[:,:-1], axis=1)\n",
        "U = Z[~E]\n",
        "print(U)\n",
        "U = Z[Z.max(axis=1) != Z.min(axis=1),:]\n",
        "print(U)"
      ]
    },
    {
      "cell_type": "markdown",
      "metadata": {
        "id": "in-kwJxC0pSS"
      },
      "source": [
        "#### 95. Convert a vector of ints into a matrix binary representation (★★★) \n",
        "(**hint**: np.unpackbits)"
      ]
    },
    {
      "cell_type": "code",
      "execution_count": 131,
      "metadata": {
        "id": "HGiABjKp0pST",
        "colab": {
          "base_uri": "https://localhost:8080/"
        },
        "outputId": "8e1cb8f8-4880-4773-e3a3-7e55d0b2bd96"
      },
      "outputs": [
        {
          "output_type": "stream",
          "name": "stdout",
          "text": [
            "[[0 0 0 0 0 0 0 0]\n",
            " [0 0 0 0 0 0 0 1]\n",
            " [0 0 0 0 0 0 1 0]\n",
            " [0 0 0 0 0 0 1 1]\n",
            " [0 0 0 0 1 1 1 1]\n",
            " [0 0 0 1 0 0 0 0]\n",
            " [0 0 1 0 0 0 0 0]\n",
            " [0 1 0 0 0 0 0 0]\n",
            " [1 0 0 0 0 0 0 0]]\n",
            "[[0 0 0 0 0 0 0 0]\n",
            " [0 0 0 0 0 0 0 1]\n",
            " [0 0 0 0 0 0 1 0]\n",
            " [0 0 0 0 0 0 1 1]\n",
            " [0 0 0 0 1 1 1 1]\n",
            " [0 0 0 1 0 0 0 0]\n",
            " [0 0 1 0 0 0 0 0]\n",
            " [0 1 0 0 0 0 0 0]\n",
            " [1 0 0 0 0 0 0 0]]\n"
          ]
        }
      ],
      "source": [
        "I = np.array([0, 1, 2, 3, 15, 16, 32, 64, 128])\n",
        "B = ((I.reshape(-1,1) & (2**np.arange(8))) != 0).astype(int)\n",
        "print(B[:,::-1])\n",
        "I = np.array([0, 1, 2, 3, 15, 16, 32, 64, 128], dtype=np.uint8)\n",
        "print(np.unpackbits(I[:, np.newaxis], axis=1))"
      ]
    },
    {
      "cell_type": "markdown",
      "metadata": {
        "id": "eJ7NzU6K0pST"
      },
      "source": [
        "#### 96. Given a two dimensional array, how to extract unique rows? (★★★) \n",
        "(**hint**: np.ascontiguousarray)"
      ]
    },
    {
      "cell_type": "code",
      "execution_count": 132,
      "metadata": {
        "id": "LyTW5pGe0pST",
        "colab": {
          "base_uri": "https://localhost:8080/"
        },
        "outputId": "52eec604-b2a1-4aa1-9cad-507f66814e4b"
      },
      "outputs": [
        {
          "output_type": "stream",
          "name": "stdout",
          "text": [
            "[[0 0 1]\n",
            " [0 1 0]\n",
            " [0 1 1]\n",
            " [1 1 0]\n",
            " [1 1 1]]\n"
          ]
        }
      ],
      "source": [
        "Z = np.random.randint(0,2,(6,3))\n",
        "T = np.ascontiguousarray(Z).view(np.dtype((np.void, Z.dtype.itemsize * Z.shape[1])))\n",
        "_, idx = np.unique(T, return_index=True)\n",
        "uZ = Z[idx]\n",
        "print(uZ)"
      ]
    },
    {
      "cell_type": "markdown",
      "metadata": {
        "id": "YcatVF-_0pST"
      },
      "source": [
        "#### 97. Considering 2 vectors A & B, write the einsum equivalent of inner, outer, sum, and mul function (★★★) \n",
        "(**hint**: np.einsum)"
      ]
    },
    {
      "cell_type": "code",
      "execution_count": 133,
      "metadata": {
        "id": "-zzUGW4A0pST",
        "colab": {
          "base_uri": "https://localhost:8080/"
        },
        "outputId": "32b53ac5-d4dd-4ce9-dd65-37f0bad1554f"
      },
      "outputs": [
        {
          "output_type": "execute_result",
          "data": {
            "text/plain": [
              "array([[0.240934  , 0.41064472, 0.3849283 , 0.53542629, 0.66098828,\n",
              "        0.45036623, 0.33197957, 0.278468  , 0.3652366 , 0.67984378],\n",
              "       [0.05175983, 0.08821877, 0.08269411, 0.11502558, 0.14200005,\n",
              "        0.09675214, 0.07131914, 0.05982326, 0.07846375, 0.14605078],\n",
              "       [0.25704372, 0.43810193, 0.41066601, 0.57122685, 0.70518437,\n",
              "        0.48047936, 0.35417694, 0.29708739, 0.38965766, 0.72530062],\n",
              "       [0.2261413 , 0.38543225, 0.36129475, 0.50255257, 0.62040539,\n",
              "        0.42271496, 0.31159692, 0.26137082, 0.34281207, 0.63810322],\n",
              "       [0.14647869, 0.24965634, 0.23402173, 0.32551877, 0.40185568,\n",
              "        0.2738055 , 0.20183092, 0.16929793, 0.22204993, 0.4133191 ],\n",
              "       [0.04730189, 0.08062071, 0.07557188, 0.10511872, 0.12976995,\n",
              "        0.08841912, 0.0651766 , 0.05467083, 0.07170586, 0.13347179],\n",
              "       [0.13068502, 0.22273781, 0.20878897, 0.29042059, 0.35852667,\n",
              "        0.24428316, 0.18006905, 0.15104384, 0.19810799, 0.36875408],\n",
              "       [0.19496858, 0.33230188, 0.31149164, 0.4332776 , 0.53488486,\n",
              "        0.36444531, 0.26864447, 0.22534185, 0.29555672, 0.55014311],\n",
              "       [0.13410948, 0.22857443, 0.21426007, 0.29803076, 0.36792149,\n",
              "        0.25068435, 0.18478757, 0.15500179, 0.20329921, 0.3784169 ],\n",
              "       [0.26564219, 0.45275704, 0.42440335, 0.59033517, 0.72877375,\n",
              "        0.49655205, 0.36602464, 0.30702537, 0.40269224, 0.74956292]])"
            ]
          },
          "metadata": {},
          "execution_count": 133
        }
      ],
      "source": [
        "A = np.random.uniform(0,1,10)\n",
        "B = np.random.uniform(0,1,10)\n",
        "\n",
        "np.einsum('i->', A)       \n",
        "np.einsum('i,i->i', A, B) \n",
        "np.einsum('i,i', A, B)   \n",
        "np.einsum('i,j->ij', A, B)    "
      ]
    },
    {
      "cell_type": "markdown",
      "metadata": {
        "id": "EIgGQ_5m0pST"
      },
      "source": [
        "#### 98. Considering a path described by two vectors (X,Y), how to sample it using equidistant samples (★★★)? \n",
        "(**hint**: np.cumsum, np.interp)"
      ]
    },
    {
      "cell_type": "code",
      "execution_count": 134,
      "metadata": {
        "collapsed": true,
        "id": "QIe57ei40pST"
      },
      "outputs": [],
      "source": [
        "phi = np.arange(0, 10*np.pi, 0.1)\n",
        "a = 1\n",
        "x = a*phi*np.cos(phi)\n",
        "y = a*phi*np.sin(phi)\n",
        "\n",
        "dr = (np.diff(x)**2 + np.diff(y)**2)**.5 \n",
        "r = np.zeros_like(x)\n",
        "r[1:] = np.cumsum(dr)                \n",
        "r_int = np.linspace(0, r.max(), 200) \n",
        "x_int = np.interp(r_int, r, x)       \n",
        "y_int = np.interp(r_int, r, y)"
      ]
    },
    {
      "cell_type": "markdown",
      "metadata": {
        "id": "pZhmXHi50pSU"
      },
      "source": [
        "#### 99. Given an integer n and a 2D array X, select from X the rows which can be interpreted as draws from a multinomial distribution with n degrees, i.e., the rows which only contain integers and which sum to n. (★★★) \n",
        "(**hint**: np.logical\\_and.reduce, np.mod)"
      ]
    },
    {
      "cell_type": "code",
      "execution_count": 135,
      "metadata": {
        "id": "u2riHCpQ0pSU",
        "colab": {
          "base_uri": "https://localhost:8080/"
        },
        "outputId": "f83ae273-d418-4f77-e882-5fc5ff4bcfd5"
      },
      "outputs": [
        {
          "output_type": "stream",
          "name": "stdout",
          "text": [
            "[[2. 0. 1. 1.]]\n"
          ]
        }
      ],
      "source": [
        "X = np.asarray([[1.0, 0.0, 3.0, 8.0],\n",
        "                [2.0, 0.0, 1.0, 1.0],\n",
        "                [1.5, 2.5, 1.0, 0.0]])\n",
        "n = 4\n",
        "M = np.logical_and.reduce(np.mod(X, 1) == 0, axis=-1)\n",
        "M &= (X.sum(axis=-1) == n)\n",
        "print(X[M])"
      ]
    },
    {
      "cell_type": "markdown",
      "metadata": {
        "id": "E8aQJ5Nc0pSV"
      },
      "source": [
        "#### 100. Compute bootstrapped 95% confidence intervals for the mean of a 1D array X (i.e., resample the elements of an array with replacement N times, compute the mean of each sample, and then compute percentiles over the means). (★★★) \n",
        "(**hint**: np.percentile)"
      ]
    },
    {
      "cell_type": "code",
      "execution_count": 136,
      "metadata": {
        "id": "kW6Cjz9K0pSV",
        "colab": {
          "base_uri": "https://localhost:8080/"
        },
        "outputId": "837cae38-3d5f-48dc-d98f-ad401d01e11a"
      },
      "outputs": [
        {
          "output_type": "stream",
          "name": "stdout",
          "text": [
            "[-0.46035751 -0.04018326]\n"
          ]
        }
      ],
      "source": [
        "X = np.random.randn(100) \n",
        "N = 1000 \n",
        "idx = np.random.randint(0, X.size, (N, X.size))\n",
        "means = X[idx].mean(axis=1)\n",
        "confint = np.percentile(means, [2.5, 97.5])\n",
        "print(confint)"
      ]
    }
  ],
  "metadata": {
    "colab": {
      "collapsed_sections": [
        "L9Zk_YkH0pRo",
        "6RPMlqCd0pRp",
        "kl618pPe0pRp",
        "oOKwQ_aH0pRq",
        "Hx2Fpgah0pRq",
        "BbNcB-9Q0pRr",
        "8IEuUZyR0pRr",
        "AubGvmFi0pRr",
        "9DDhjzWA0pRs",
        "mJBc-LQc0pRs",
        "YlJlZelD0pRt",
        "N_yOD3pm0pRv",
        "QoUQcGZG0pRx",
        "XvG8QCqb0pR0",
        "-DZM1iZj0pR0",
        "XEzFOMWF0pR1",
        "w83i7T1y0pR1",
        "DjqCLRZf0pR1"
      ],
      "provenance": [],
      "include_colab_link": true
    },
    "kernelspec": {
      "display_name": "Python 3",
      "language": "python",
      "name": "python3"
    },
    "language_info": {
      "codemirror_mode": {
        "name": "ipython",
        "version": 3
      },
      "file_extension": ".py",
      "mimetype": "text/x-python",
      "name": "python",
      "nbconvert_exporter": "python",
      "pygments_lexer": "ipython3",
      "version": "3.8.3"
    }
  },
  "nbformat": 4,
  "nbformat_minor": 0
}